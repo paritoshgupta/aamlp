{
 "cells": [
  {
   "cell_type": "markdown",
   "metadata": {},
   "source": [
    "# Load packages"
   ]
  },
  {
   "cell_type": "code",
   "execution_count": 3,
   "metadata": {},
   "outputs": [
    {
     "name": "stdout",
     "output_type": "stream",
     "text": [
      "Collecting plotly\n",
      "  Downloading plotly-4.10.0-py2.py3-none-any.whl (13.0 MB)\n",
      "\u001b[K     |████████████████████████████████| 13.0 MB 4.7 MB/s eta 0:00:01\n",
      "\u001b[?25hRequirement already satisfied: six in /Users/paritoshgupta/miniconda3/envs/ml/lib/python3.7/site-packages (from plotly) (1.15.0)\n",
      "Collecting retrying>=1.3.3\n",
      "  Downloading retrying-1.3.3.tar.gz (10 kB)\n",
      "Building wheels for collected packages: retrying\n",
      "  Building wheel for retrying (setup.py) ... \u001b[?25ldone\n",
      "\u001b[?25h  Created wheel for retrying: filename=retrying-1.3.3-py3-none-any.whl size=11430 sha256=49c76e01d15c10ac74d86d21e89b95c1141055cd29de4c18f240647cb2815f39\n",
      "  Stored in directory: /Users/paritoshgupta/Library/Caches/pip/wheels/f9/8d/8d/f6af3f7f9eea3553bc2fe6d53e4b287dad18b06a861ac56ddf\n",
      "Successfully built retrying\n",
      "Installing collected packages: retrying, plotly\n",
      "Successfully installed plotly-4.10.0 retrying-1.3.3\n"
     ]
    }
   ],
   "source": [
    "# !pip install keras\n",
    "!pip install plotly\n",
    "import pandas as pd\n",
    "import numpy as np\n",
    "import json\n",
    "import tensorflow.keras.layers as L\n",
    "import keras.backend as K\n",
    "import tensorflow as tf\n",
    "# import plotly.express as px\n",
    "from sklearn.model_selection import StratifiedKFold, KFold, GroupKFold\n",
    "from sklearn.cluster import KMeans\n",
    "import os\n",
    "\n",
    "os.environ['CUDA_VISIBLE_DEVICES'] = '0'\n",
    "def allocate_gpu_memory(gpu_number=0):\n",
    "    physical_devices = tf.config.experimental.list_physical_devices('GPU')\n",
    "\n",
    "    if physical_devices:\n",
    "        try:\n",
    "            print(\"Found {} GPU(s)\".format(len(physical_devices)))\n",
    "            tf.config.set_visible_devices(physical_devices[gpu_number], 'GPU')\n",
    "            tf.config.experimental.set_memory_growth(physical_devices[gpu_number], True)\n",
    "            print(\"#{} GPU memory is allocated\".format(gpu_number))\n",
    "        except RuntimeError as e:\n",
    "            print(e)\n",
    "    else:\n",
    "        print(\"Not enough GPU hardware devices available\")\n",
    "allocate_gpu_memory()\n",
    "\n",
    "Ver='GRU_LSTM1'\n",
    "aug_data = '../input/openvaccine-augmentation-data/aug_data1.csv'\n",
    "debug = False\n"
   ]
  },
  {
   "cell_type": "code",
   "execution_count": null,
   "metadata": {},
   "outputs": [],
   "source": []
  }
 ],
 "metadata": {
  "kernelspec": {
   "display_name": "ml",
   "language": "python",
   "name": "ml"
  },
  "language_info": {
   "codemirror_mode": {
    "name": "ipython",
    "version": 3
   },
   "file_extension": ".py",
   "mimetype": "text/x-python",
   "name": "python",
   "nbconvert_exporter": "python",
   "pygments_lexer": "ipython3",
   "version": "3.7.7"
  },
  "toc": {
   "base_numbering": 1,
   "nav_menu": {},
   "number_sections": true,
   "sideBar": true,
   "skip_h1_title": false,
   "title_cell": "Table of Contents",
   "title_sidebar": "Contents",
   "toc_cell": false,
   "toc_position": {},
   "toc_section_display": true,
   "toc_window_display": false
  }
 },
 "nbformat": 4,
 "nbformat_minor": 4
}
