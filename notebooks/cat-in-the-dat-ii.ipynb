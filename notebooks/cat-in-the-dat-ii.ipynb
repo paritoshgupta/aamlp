{
 "cells": [
  {
   "cell_type": "markdown",
   "metadata": {},
   "source": [
    "# load packages"
   ]
  },
  {
   "cell_type": "code",
   "execution_count": 1,
   "metadata": {},
   "outputs": [
    {
     "name": "stdout",
     "output_type": "stream",
     "text": [
      "Current Directory --> /Users/Paritosh_Gupta/Desktop/aamlp/notebooks\n",
      "Changing Directory...\n"
     ]
    },
    {
     "data": {
      "text/plain": [
       "['test.csv', 'train_folds.csv', 'train.csv', 'sample_submission.csv']"
      ]
     },
     "execution_count": 1,
     "metadata": {},
     "output_type": "execute_result"
    }
   ],
   "source": [
    "import os\n",
    "import pandas as pd\n",
    "from sklearn import preprocessing\n",
    "print(f\"Current Directory --> {os.getcwd()}\")\n",
    "print(\"Changing Directory...\")\n",
    "os.listdir(os.chdir(os.path.join(os.getcwd(), \"../input/cat-in-the-dat-ii\")))"
   ]
  },
  {
   "cell_type": "markdown",
   "metadata": {},
   "source": [
    "# Data Prep"
   ]
  },
  {
   "cell_type": "code",
   "execution_count": 11,
   "metadata": {},
   "outputs": [
    {
     "name": "stdout",
     "output_type": "stream",
     "text": [
      "Train columns --> Index(['id', 'bin_0', 'bin_1', 'bin_2', 'bin_3', 'bin_4', 'nom_0', 'nom_1',\n",
      "       'nom_2', 'nom_3', 'nom_4', 'nom_5', 'nom_6', 'nom_7', 'nom_8', 'nom_9',\n",
      "       'ord_0', 'ord_1', 'ord_2', 'ord_3', 'ord_4', 'ord_5', 'day', 'month',\n",
      "       'target'],\n",
      "      dtype='object')\n",
      "Test columns --> Index(['id', 'bin_0', 'bin_1', 'bin_2', 'bin_3', 'bin_4', 'nom_0', 'nom_1',\n",
      "       'nom_2', 'nom_3', 'nom_4', 'nom_5', 'nom_6', 'nom_7', 'nom_8', 'nom_9',\n",
      "       'ord_0', 'ord_1', 'ord_2', 'ord_3', 'ord_4', 'ord_5', 'day', 'month'],\n",
      "      dtype='object')\n",
      "Columns of Train not present in Test --> ['target']\n",
      "concatenating Train and Test ...\n",
      "(1000000, 25)\n",
      "Index(['id', 'bin_0', 'bin_1', 'bin_2', 'bin_3', 'bin_4', 'nom_0', 'nom_1',\n",
      "       'nom_2', 'nom_3', 'nom_4', 'nom_5', 'nom_6', 'nom_7', 'nom_8', 'nom_9',\n",
      "       'ord_0', 'ord_1', 'ord_2', 'ord_3', 'ord_4', 'ord_5', 'day', 'month',\n",
      "       'target'],\n",
      "      dtype='object')\n"
     ]
    }
   ],
   "source": [
    "# read training data\n",
    "train = pd.read_csv(\"train.csv\")\n",
    "# read test data\n",
    "test = pd.read_csv(\"test.csv\")\n",
    "\n",
    "print(f\"Train columns --> {train.columns}\")\n",
    "print(f\"Test columns --> {test.columns}\")\n",
    "train_cols = train.columns\n",
    "test_cols = test.columns\n",
    "print(f\"Columns of Train not present in Test --> {[x for x in train_cols if x not in test_cols]}\")\n",
    "\n",
    "# create a fake target column for test data\n",
    "test.loc[:, \"target\"] = -1\n",
    "\n",
    "print(f\"concatenating Train and Test ...\")\n",
    "# concatenate both training and test data\n",
    "data = pd.concat([train, test]).reset_index(drop=True)\n",
    "\n",
    "# make a list of features we are interesred in\n",
    "# id and target is something we should not encode\n",
    "features = [x for x in train.columns if x not in [\"id\", \"target\"]]\n",
    "\n",
    "# loop over the features list\n",
    "for feat in features:\n",
    "    # create a new instance of Label Encoder for each feature\n",
    "    lbl_enc = preprocessing.LabelEncoder()\n",
    "    \n",
    "    # trick - since its categorical data, we fillna with a string\n",
    "    # so, no matter its int or float, its converted to string\n",
    "    \n",
    "    temp_col = data[feat].fillna(\"NONE\").astype(str).values\n",
    "    \n",
    "    data.loc[:, feat] = temp_col\n",
    "\n",
    "# split the training data and test data    \n",
    "train = data[data.target != -1].reset_index(drop=True)\n",
    "test = data[data.target == -1].reset_index(drop=True)\n",
    "\n"
   ]
  },
  {
   "cell_type": "markdown",
   "metadata": {},
   "source": [
    "# Unknown categories (Solves live setting issue of model failing) "
   ]
  },
  {
   "cell_type": "code",
   "execution_count": 13,
   "metadata": {},
   "outputs": [],
   "source": [
    "df = pd.read_csv(\"train.csv\")"
   ]
  },
  {
   "cell_type": "code",
   "execution_count": 14,
   "metadata": {},
   "outputs": [
    {
     "data": {
      "text/plain": [
       "Freezing       142726\n",
       "Warm           124239\n",
       "Cold            97822\n",
       "Boiling Hot     84790\n",
       "Hot             67508\n",
       "Lava Hot        64840\n",
       "NONE            18075\n",
       "Name: ord_2, dtype: int64"
      ]
     },
     "execution_count": 14,
     "metadata": {},
     "output_type": "execute_result"
    }
   ],
   "source": [
    "df.ord_2.fillna(\"NONE\").value_counts()"
   ]
  },
  {
   "cell_type": "code",
   "execution_count": 17,
   "metadata": {},
   "outputs": [
    {
     "data": {
      "text/plain": [
       "N       39978\n",
       "P       37890\n",
       "Y       36657\n",
       "A       36633\n",
       "R       33045\n",
       "U       32897\n",
       "M       32504\n",
       "X       32347\n",
       "C       32112\n",
       "H       31189\n",
       "Q       30145\n",
       "T       29723\n",
       "O       25610\n",
       "B       25212\n",
       "E       21871\n",
       "K       21676\n",
       "I       19805\n",
       "NONE    17930\n",
       "D       17284\n",
       "F       16721\n",
       "W        8268\n",
       "Z        5790\n",
       "S        4595\n",
       "G        3404\n",
       "V        3107\n",
       "J        1950\n",
       "L        1657\n",
       "Name: ord_4, dtype: int64"
      ]
     },
     "execution_count": 17,
     "metadata": {},
     "output_type": "execute_result"
    }
   ],
   "source": [
    "df.ord_4.fillna(\"NONE\").value_counts()"
   ]
  },
  {
   "cell_type": "markdown",
   "metadata": {},
   "source": [
    "## creating rare categories"
   ]
  },
  {
   "cell_type": "code",
   "execution_count": 20,
   "metadata": {},
   "outputs": [
    {
     "name": "stdout",
     "output_type": "stream",
     "text": [
      "N       39978\n",
      "P       37890\n",
      "Y       36657\n",
      "A       36633\n",
      "R       33045\n",
      "U       32897\n",
      "M       32504\n",
      "X       32347\n",
      "C       32112\n",
      "H       31189\n",
      "Q       30145\n",
      "T       29723\n",
      "O       25610\n",
      "B       25212\n",
      "E       21871\n",
      "K       21676\n",
      "I       19805\n",
      "NONE    17930\n",
      "D       17284\n",
      "F       16721\n",
      "W        8268\n",
      "Z        5790\n",
      "S        4595\n",
      "G        3404\n",
      "V        3107\n",
      "J        1950\n",
      "L        1657\n",
      "Name: ord_4, dtype: int64\n",
      "##########\n",
      "N       39978\n",
      "P       37890\n",
      "Y       36657\n",
      "A       36633\n",
      "R       33045\n",
      "U       32897\n",
      "M       32504\n",
      "X       32347\n",
      "C       32112\n",
      "H       31189\n",
      "Q       30145\n",
      "T       29723\n",
      "O       25610\n",
      "B       25212\n",
      "E       21871\n",
      "K       21676\n",
      "I       19805\n",
      "NONE    17930\n",
      "D       17284\n",
      "F       16721\n",
      "W        8268\n",
      "Z        5790\n",
      "S        4595\n",
      "RARE     3607\n",
      "G        3404\n",
      "V        3107\n",
      "Name: ord_4, dtype: int64\n"
     ]
    }
   ],
   "source": [
    "df.ord_4 = df.ord_4.fillna(\"NONE\")\n",
    "print(df.ord_4.value_counts())\n",
    "\n",
    "print(\"##########\")\n",
    "df.loc[df[\"ord_4\"].value_counts()[df[\"ord_4\"]].values < 2000, \"ord_4\"] = \"RARE\"\n",
    "print(df.ord_4.value_counts())\n"
   ]
  },
  {
   "cell_type": "markdown",
   "metadata": {},
   "source": [
    "# Check new folds"
   ]
  },
  {
   "cell_type": "markdown",
   "metadata": {},
   "source": [
    "- Run the script **'../src/cat-in-the-dat-ii/create_folds.py'** to get the csv file"
   ]
  },
  {
   "cell_type": "code",
   "execution_count": 8,
   "metadata": {},
   "outputs": [
    {
     "name": "stdout",
     "output_type": "stream",
     "text": [
      "/Users/Paritosh_Gupta/Desktop/aamlp/input/cat-in-the-dat-ii\n"
     ]
    },
    {
     "data": {
      "text/plain": [
       "4    120000\n",
       "3    120000\n",
       "2    120000\n",
       "1    120000\n",
       "0    120000\n",
       "Name: kfold, dtype: int64"
      ]
     },
     "execution_count": 8,
     "metadata": {},
     "output_type": "execute_result"
    }
   ],
   "source": [
    "import pandas as pd\n",
    "print(os.getcwd())\n",
    "df = pd.read_csv(\"train_folds.csv\")\n",
    "df.kfold.value_counts()\n",
    "\n",
    "# training data has 60000 samples, and we made five folds. so far "
   ]
  },
  {
   "cell_type": "code",
   "execution_count": 9,
   "metadata": {},
   "outputs": [
    {
     "name": "stdout",
     "output_type": "stream",
     "text": [
      "0    97536\n",
      "1    22464\n",
      "Name: target, dtype: int64\n",
      "0    97536\n",
      "1    22464\n",
      "Name: target, dtype: int64\n",
      "0    97535\n",
      "1    22465\n",
      "Name: target, dtype: int64\n",
      "0    97535\n",
      "1    22465\n",
      "Name: target, dtype: int64\n",
      "0    97535\n",
      "1    22465\n",
      "Name: target, dtype: int64\n"
     ]
    }
   ],
   "source": [
    "print(df[df.kfold==0].target.value_counts())\n",
    "print(df[df.kfold==1].target.value_counts())\n",
    "print(df[df.kfold==2].target.value_counts())\n",
    "print(df[df.kfold==3].target.value_counts())\n",
    "print(df[df.kfold==4].target.value_counts())"
   ]
  },
  {
   "cell_type": "code",
   "execution_count": null,
   "metadata": {},
   "outputs": [],
   "source": []
  }
 ],
 "metadata": {
  "kernelspec": {
   "display_name": "ml",
   "language": "python",
   "name": "ml"
  },
  "language_info": {
   "codemirror_mode": {
    "name": "ipython",
    "version": 3
   },
   "file_extension": ".py",
   "mimetype": "text/x-python",
   "name": "python",
   "nbconvert_exporter": "python",
   "pygments_lexer": "ipython3",
   "version": "3.7.7"
  },
  "toc": {
   "base_numbering": 1,
   "nav_menu": {},
   "number_sections": true,
   "sideBar": true,
   "skip_h1_title": false,
   "title_cell": "Table of Contents",
   "title_sidebar": "Contents",
   "toc_cell": false,
   "toc_position": {},
   "toc_section_display": true,
   "toc_window_display": true
  }
 },
 "nbformat": 4,
 "nbformat_minor": 4
}
