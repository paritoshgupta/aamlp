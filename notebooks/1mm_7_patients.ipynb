{
 "cells": [
  {
   "cell_type": "code",
   "execution_count": 1,
   "metadata": {},
   "outputs": [
    {
     "name": "stdout",
     "output_type": "stream",
     "text": [
      "# Changing directory to ../input/osic-pulmonary-fibrosis-progression/\n",
      "\n",
      "** Files present in PATH --> ['ads', '.DS_Store', 'archive', 'test', 'test.csv', 'train', 'train.csv', 'sub_df.csv', 'ads_4_folds.csv', 'ads.zip', 'sample_submission.csv']\n"
     ]
    }
   ],
   "source": [
    "import os\n",
    "import random\n",
    "import pandas as pd\n",
    "import numpy as np\n",
    "import copy\n",
    "from tqdm.notebook import tqdm\n",
    "from matplotlib import pyplot as plt\n",
    "import PIL\n",
    "import math\n",
    "import scipy\n",
    "import gc\n",
    "from PIL import Image\n",
    "# !pip install scikit-image\n",
    "import pydicom\n",
    "from sklearn import preprocessing \n",
    "from sklearn.cluster import KMeans\n",
    "import tensorflow.keras.backend as K\n",
    "from skimage import morphology\n",
    "from skimage import measure\n",
    "from skimage.transform import resize\n",
    "import tensorflow as tf\n",
    "from tensorflow import keras\n",
    "import cv2\n",
    "assert tf.__version__ >= \"2.0\"\n",
    "BytesList = tf.train.BytesList\n",
    "FloatList = tf.train.FloatList\n",
    "Int64List = tf.train.Int64List\n",
    "Feature = tf.train.Feature\n",
    "Features = tf.train.Features\n",
    "Example = tf.train.Example\n",
    "\n",
    "PATH = \"../input/osic-pulmonary-fibrosis-progression/\"\n",
    "PROCESSED_DATA_PATH = \"../input/osic-pulmonary-fibrosis-progression/archive/mask_noise/mask_noise/\"\n",
    "OUTPUT_PATH_LUNG_MASK_IMAGES_1MM = \"/Users/paritoshgupta/Desktop/aamlp/aamlp/input/osic-pulmonary-fibrosis-progression/ads/lung_mask_1mm/\"\n",
    "print(f\"# Changing directory to {PATH}\")\n",
    "# os.chdir(PATH)\n",
    "print(f\"\\n** Files present in PATH --> {list(os.listdir(PATH))}\")\n",
    "\n",
    "new_spacing = [1,1,1]"
   ]
  },
  {
   "cell_type": "code",
   "execution_count": 2,
   "metadata": {},
   "outputs": [],
   "source": [
    "def load_scan(PATH, patient_type, pat_id):\n",
    "    path = os.path.join(PATH, patient_type, pat_id)\n",
    "    images = os.listdir(os.path.join(path))\n",
    "    images = sorted(images,key=lambda x: int(os.path.splitext(x)[0]))\n",
    "    slices = [pydicom.dcmread(os.path.join(path, img)) for img in images]\n",
    "    slices.sort(key = lambda x: int(x.InstanceNumber))\n",
    "    try:\n",
    "        slice_thickness = np.abs(slices[0].ImagePositionPatient[2] - slices[1].ImagePositionPatient[2])\n",
    "    except:\n",
    "        try:\n",
    "            slice_thickness = np.abs(slices[0].SliceLocation - slices[1].SliceLocation)    \n",
    "        except:\n",
    "            slice_thickness = np.abs(slices[0].SliceThickness)\n",
    "    if slice_thickness == 0:\n",
    "        slice_thickness = 1\n",
    "    return slices, slice_thickness\n",
    "\n",
    "def crop_image(img: np.ndarray):\n",
    "    edge_pixel_value = img[0, 0]\n",
    "    mask = img != edge_pixel_value\n",
    "    return img[np.ix_(mask.any(1),mask.any(0))]\n",
    "\n",
    "\n",
    "def get_pixels_hu(scans):\n",
    "    image = np.stack([s.pixel_array for s in scans])\n",
    "    # Convert to int16 (from sometimes int16), \n",
    "    # should be possible as values should always be low enough (<32k)\n",
    "    image = image.astype(np.int16)\n",
    "    \n",
    "    if image[0].shape[0] != image[0].shape[1]:\n",
    "        image = np.stack(crop_image(image[i]) for i in range(image.shape[0]))\n",
    "\n",
    "    # The intercept is usually -1024, so air is approximately 0\n",
    "    image[image == -2000] = 0\n",
    "    \n",
    "    # Convert to Hounsfield units (HU)\n",
    "    intercept = scans[0].RescaleIntercept\n",
    "    slope = scans[0].RescaleSlope\n",
    "    \n",
    "    if slope != 1:\n",
    "        image = slope * image.astype(np.float64)\n",
    "        image = image.astype(np.int16)\n",
    "        \n",
    "    image += np.int16(intercept)\n",
    "    \n",
    "    return np.array(image, dtype=np.int16)\n",
    "\n",
    "# def get_pixels_hu(scans):\n",
    "    \n",
    "#     image = np.stack([s.pixel_array for s in scans])\n",
    "#     image = image.astype(np.int16)\n",
    "#     if image[0].shape[0] != image[0].shape[1]:\n",
    "#         image = np.stack(crop_image(image[i]) for i in range(image.shape[0]))\n",
    "\n",
    "#     # Set outside-of-scan pixels to 0\n",
    "#     # The intercept is usually -1024, so air is approximately 0\n",
    "#     image[image == -2000] = 0\n",
    "    \n",
    "#     # Convert to Hounsfield units (HU)\n",
    "#     intercept = scans[0].RescaleIntercept\n",
    "#     slope = scans[0].RescaleSlope\n",
    "    \n",
    "#     if slope != 1:\n",
    "#         image = slope * image.astype(np.float64)\n",
    "#         image = image.astype(np.int16)\n",
    "        \n",
    "#     image += np.int16(intercept)\n",
    "    \n",
    "#     return np.array(image, dtype=np.int16)\n",
    "\n",
    "def largest_label_volume(im, bg=-1):\n",
    "    vals, counts = np.unique(im, return_counts=True)\n",
    "    counts = counts[vals != bg]\n",
    "    vals = vals[vals != bg]\n",
    "    if len(counts) > 0:\n",
    "        return vals[np.argmax(counts)]\n",
    "    else:\n",
    "        return None\n",
    "    \n",
    "def segment_lung_mask(image, fill_lung_structures=True):\n",
    "    # not actually binary, but 1 and 2. \n",
    "    # 0 is treated as background, which we do not want\n",
    "    binary_image = np.array(image >= -700, dtype=np.int8)+1\n",
    "    labels = measure.label(binary_image)\n",
    " \n",
    "    # Pick the pixel in the very corner to determine which label is     \n",
    "     # air.\n",
    "    # Improvement: Pick multiple background labels from around the   patient\n",
    "    # More resistant to “trays” on which the patient lays cutting the air around the person in half\n",
    "    background_label = labels[0,0,0]\n",
    " \n",
    "    # Fill the air around the person\n",
    "    binary_image[background_label == labels] = 2\n",
    " \n",
    "    # Method of filling the lung structures (that is superior to \n",
    "    # something like morphological closing)\n",
    "    if fill_lung_structures:\n",
    "        # For every slice we determine the largest solid structure\n",
    "        for i, axial_slice in enumerate(binary_image):\n",
    "            axial_slice = axial_slice - 1\n",
    "            labeling = measure.label(axial_slice)\n",
    "            l_max = largest_label_volume(labeling, bg=0)\n",
    " \n",
    "            if l_max is not None: #This slice contains some lung\n",
    "                binary_image[i][labeling != l_max] = 1\n",
    "    binary_image -= 1 #Make the image actual binary\n",
    "    binary_image = 1-binary_image # Invert it, lungs are now 1\n",
    " \n",
    "    # Remove other air pockets inside body\n",
    "    labels = measure.label(binary_image, background=0)\n",
    "    l_max = largest_label_volume(labels, bg=0)\n",
    "    if l_max is not None: # There are air pockets\n",
    "        binary_image[labels != l_max] = 0\n",
    " \n",
    "    return binary_image\n",
    "\n",
    "def resample(image, scan, slice_thickness, new_spacing=[1,1,1]):\n",
    "    # Determine current pixel spacing\n",
    "#     spacing = map(float, ([scan[0].SliceThickness] + list(scan[0].PixelSpacing)))\n",
    "    spacing = map(float, ([slice_thickness] + list(scan[0].PixelSpacing)))\n",
    "    spacing = np.array(list(spacing))\n",
    "    resize_factor = spacing / new_spacing\n",
    "    new_real_shape = image.shape * resize_factor\n",
    "    new_shape = np.round(new_real_shape)\n",
    "    real_resize_factor = new_shape / image.shape\n",
    "    new_spacing = spacing / real_resize_factor    \n",
    "    image1 = scipy.ndimage.interpolation.zoom(image, real_resize_factor)\n",
    "    print(f\"Spacing Present in DICOM --> {spacing}\")\n",
    "    print(f\"Resize Factor --> {resize_factor}\")\n",
    "    print(f\"Raw Image Shape --> {image.shape}\")    \n",
    "    print(f\"Resampled Image Shape --> {new_real_shape.shape}\")    \n",
    "    print(f\"Real Resize Factor --> {real_resize_factor}\")    \n",
    "    print(f\"New Spacing --> {new_spacing}\")    \n",
    "    return image1, new_spacing\n",
    "\n",
    "\n",
    "def min_max_scale(input_image):\n",
    "    shape = input_image.shape\n",
    "    scaled_image = preprocessing.minmax_scale(input_image.ravel(), feature_range=(0,255)).reshape(shape)\n",
    "    return scaled_image\n",
    "\n",
    "def make_lungmask(img, display=False):\n",
    "    row_size= img.shape[0]\n",
    "    col_size = img.shape[1]\n",
    "    \n",
    "    mean = np.mean(img)\n",
    "    std = np.std(img)\n",
    "    img = img-mean\n",
    "    img = img/std\n",
    "    # Find the average pixel value near the lungs\n",
    "    # to renormalize washed out images\n",
    "    middle = img[int(col_size/5):int(col_size/5*4),int(row_size/5):int(row_size/5*4)] \n",
    "    mean = np.mean(middle)  \n",
    "    max = np.max(img)\n",
    "    min = np.min(img)\n",
    "    # To improve threshold finding, I'm moving the \n",
    "    # underflow and overflow on the pixel spectrum\n",
    "    img[img==max]=mean\n",
    "    img[img==min]=mean\n",
    "    #\n",
    "    # Using Kmeans to separate foreground (soft tissue / bone) and background (lung/air)\n",
    "    #\n",
    "    kmeans = KMeans(n_clusters=2).fit(np.reshape(middle,[np.prod(middle.shape),1]))\n",
    "    centers = sorted(kmeans.cluster_centers_.flatten())\n",
    "    threshold = np.mean(centers)\n",
    "    thresh_img = np.where(img<threshold,1.0,0.0)  # threshold the image\n",
    "\n",
    "    # First erode away the finer elements, then dilate to include some of the pixels surrounding the lung.  \n",
    "    # We don't want to accidentally clip the lung.\n",
    "\n",
    "    eroded = morphology.erosion(thresh_img,np.ones([3,3]))\n",
    "    dilation = morphology.dilation(eroded,np.ones([8,8]))\n",
    "\n",
    "    labels = measure.label(dilation) # Different labels are displayed in different colors\n",
    "    label_vals = np.unique(labels)\n",
    "    regions = measure.regionprops(labels)\n",
    "    good_labels = []\n",
    "    for prop in regions:\n",
    "        B = prop.bbox\n",
    "        if B[2]-B[0]<row_size/10*9 and B[3]-B[1]<col_size/10*9 and B[0]>row_size/5 and B[2]<col_size/5*4:\n",
    "            good_labels.append(prop.label)\n",
    "    mask = np.ndarray([row_size,col_size],dtype=np.int8)\n",
    "    mask[:] = 0\n",
    "\n",
    "    #\n",
    "    #  After just the lungs are left, we do another large dilation\n",
    "    #  in order to fill in and out the lung mask \n",
    "    #\n",
    "    for N in good_labels:\n",
    "        mask = mask + np.where(labels==N,1,0)\n",
    "    mask = morphology.dilation(mask,np.ones([10,10])) # one last dilation\n",
    "\n",
    "    if (display):\n",
    "        fig, ax = plt.subplots(3, 2, figsize=[12, 12])\n",
    "        ax[0, 0].set_title(\"Original\")\n",
    "        ax[0, 0].imshow(img, cmap='gray')\n",
    "        ax[0, 0].axis('off')\n",
    "        ax[0, 1].set_title(\"Threshold\")\n",
    "        ax[0, 1].imshow(thresh_img, cmap='gray')\n",
    "        ax[0, 1].axis('off')\n",
    "        ax[1, 0].set_title(\"After Erosion and Dilation\")\n",
    "        ax[1, 0].imshow(dilation, cmap='gray')\n",
    "        ax[1, 0].axis('off')\n",
    "        ax[1, 1].set_title(\"Color Labels\")\n",
    "        ax[1, 1].imshow(labels)\n",
    "        ax[1, 1].axis('off')\n",
    "        ax[2, 0].set_title(\"Final Mask\")\n",
    "        ax[2, 0].imshow(mask, cmap='gray')\n",
    "        ax[2, 0].axis('off')\n",
    "        ax[2, 1].set_title(\"Apply Mask on Original\")\n",
    "        ax[2, 1].imshow(mask*img, cmap='gray')\n",
    "        ax[2, 1].axis('off')\n",
    "        \n",
    "        plt.show()\n",
    "    return mask*img\n"
   ]
  },
  {
   "cell_type": "code",
   "execution_count": 3,
   "metadata": {},
   "outputs": [],
   "source": [
    "# PATH = \"../input/osic-pulmonary-fibrosis-progression/\"\n",
    "# patient_label=\"test\"\n",
    "# pat_id = \"ID00419637202311204720264\"\n",
    "\n"
   ]
  },
  {
   "cell_type": "code",
   "execution_count": 4,
   "metadata": {},
   "outputs": [],
   "source": [
    "# # plt.imshow(patient_pixels[0], \"gray\")\n",
    "# a = make_lungmask(patient_pixels[4], True)\n",
    "# plt.imshow(a, \"gray\")\n",
    "# patient_dicom = load_scan(PATH, patient_label, pat_id)\n",
    "# patient_pixels = get_pixels_hu(patient_dicom)\n"
   ]
  },
  {
   "cell_type": "code",
   "execution_count": null,
   "metadata": {},
   "outputs": [],
   "source": []
  },
  {
   "cell_type": "code",
   "execution_count": 5,
   "metadata": {},
   "outputs": [],
   "source": [
    "# # isolate lung from chest\n",
    "# copied_pixels = copy.deepcopy(patient_pixels)\n",
    "# for i, mask in enumerate(segmented_lungs_fill): \n",
    "#     get_high_vals = mask == 0\n",
    "#     copied_pixels[i][get_high_vals] = 0\n",
    "# seg_lung_pixels = copied_pixels\n"
   ]
  },
  {
   "cell_type": "code",
   "execution_count": 6,
   "metadata": {},
   "outputs": [],
   "source": [
    "# masked_lung_new = [internal_structures[i] for i in range(len(internal_structures)) if np.max(internal_structures[i])> 0]\n",
    "# print(len(masked_lung_new))           "
   ]
  },
  {
   "cell_type": "code",
   "execution_count": 7,
   "metadata": {},
   "outputs": [],
   "source": [
    "\n",
    "# try:\n",
    "#     patient_dicom = load_scan(PATH, patient_label, pat_id)\n",
    "#     patient_pixels = get_pixels_hu(patient_dicom)\n",
    "#     masked_lung_scaled = [min_max_scale(img) for img in masked_lung_new]\n",
    "#     dir_path = os.path.join(output_path, pat_id)\n",
    "#     os.makedirs(dir_path, exist_ok=True)\n",
    "#     print(f\"** Saving images for Patient --> {pat_id} @ Path --> {dir_path}\")\n",
    "#     for i, lung_img in enumerate(masked_lung_scaled):\n",
    "#         img = Image.fromarray(lung_img)\n",
    "#         plt.imsave(f'{output_path}/{pat_id}/{i+1}.png', img, cmap='gray')\n",
    "# except:\n",
    "#     pass\n",
    "    "
   ]
  },
  {
   "cell_type": "code",
   "execution_count": 8,
   "metadata": {},
   "outputs": [],
   "source": [
    "# def create_lung_mask_patient_1mm(path, patients, patient_label, output_path):\n",
    "#     for pat_id in tqdm(patients): \n",
    "#         try:\n",
    "#             print(\"\\n\\n#######################################################\")\n",
    "#             print(f\"********** Processing for Patient ID --> {pat_id} **********\")\n",
    "#             patient_dicom = load_scan(PATH, patient_label, pat_id)\n",
    "#             patient_pixels = get_pixels_hu(patient_dicom)\n",
    "# # imgs_after_resamp, spacing = resample(imgs_to_process, patient, st, resample_size)\n",
    "#             masked_lung = []\n",
    "#             for img in tqdm(patient_pixels):\n",
    "#                 try:\n",
    "#                     masked_lung.append(make_lungmask(img))\n",
    "#                 except:\n",
    "#                     pass\n",
    "#             masked_lung_new = [masked_lung[i] for i in range(len(masked_lung)) if np.max(masked_lung[i])> 0]\n",
    "#             print(\"# Dropping empty images...\")\n",
    "#             print(f\"- N Images (Pre --> {len(masked_lung)}, Post --> {len(masked_lung_new)})\")\n",
    "#             print(\"# Min Max Scaling to get values between 0 and 255\")\n",
    "#             masked_lung_scaled = [min_max_scale(img) for img in masked_lung_new]\n",
    "#             dir_path = os.path.join(output_path, pat_id)\n",
    "#             os.makedirs(dir_path, exist_ok=True)\n",
    "#             print(f\"** Saving images for Patient --> {pat_id} @ Path --> {dir_path}\")\n",
    "#             for i, lung_img in enumerate(masked_lung_scaled):\n",
    "#                 img = Image.fromarray(lung_img)\n",
    "#                 plt.imsave(f'{output_path}/{pat_id}/{i+1}.png', img, cmap='gray')\n",
    "#             print(\"#######################################################\")\n",
    "#         except:\n",
    "#             pass\n",
    "\n",
    "        \n",
    "def create_lung_mask_patient_1mm_old(path, patients, patient_label, output_path, resample_size):\n",
    "    for pat_id in tqdm(patients): \n",
    "        try:\n",
    "            print(\"\\n\\n#######################################################\")\n",
    "            print(f\"********** Processing for Patient ID --> {pat_id} **********\")\n",
    "            patient, st = load_scan(path, patient_label, pat_id)\n",
    "            imgs_to_process = get_pixels_hu(patient)\n",
    "            imgs_after_resamp, spacing = resample(imgs_to_process, patient, st, resample_size)\n",
    "            masked_lung = []\n",
    "            for img in tqdm(imgs_after_resamp):\n",
    "                try:\n",
    "                    masked_lung.append(make_lungmask(img))\n",
    "                except:\n",
    "                    pass\n",
    "            masked_lung_new = [masked_lung[i] for i in range(len(masked_lung)) if np.max(masked_lung[i])> 0]\n",
    "            print(\"# Dropping empty images...\")\n",
    "            print(f\"- N Images (Pre --> {len(masked_lung)}, Post --> {len(masked_lung_new)})\")\n",
    "            print(\"# Min Max Scaling to get values between 0 and 255\")\n",
    "            masked_lung_scaled = [min_max_scale(img) for img in masked_lung_new]\n",
    "            dir_path = os.path.join(output_path, pat_id)\n",
    "            os.makedirs(dir_path, exist_ok=True)\n",
    "            print(f\"** Saving images for Patient --> {pat_id} @ Path --> {dir_path}\")\n",
    "            for i, lung_img in enumerate(masked_lung_scaled):\n",
    "                img = Image.fromarray(lung_img)\n",
    "                plt.imsave(f'{output_path}/{pat_id}/{i+1}.png', img, cmap='gray')\n",
    "            print(\"#######################################################\")\n",
    "        except:\n",
    "            pass\n",
    "            "
   ]
  },
  {
   "cell_type": "code",
   "execution_count": 9,
   "metadata": {},
   "outputs": [],
   "source": [
    "patients_train = [\n",
    "\"ID00094637202205333947361\",\n",
    "\"ID00086637202203494931510\",\n",
    "\"ID00014637202177757139317\",\n",
    "\"ID00067637202189903532242\",\n",
    "\"ID00240637202264138860065\",\n",
    "\"ID00122637202216437668965\"]\n",
    "\n",
    "patients_test = [\"ID00419637202311204720264\"]\n",
    "\n",
    "resample_size = [1,1,1]\n",
    "\n",
    "output_path = \"/Users/paritoshgupta/Desktop/pats_7_new_images/\"\n"
   ]
  },
  {
   "cell_type": "code",
   "execution_count": 10,
   "metadata": {},
   "outputs": [
    {
     "data": {
      "application/vnd.jupyter.widget-view+json": {
       "model_id": "8a2bb366a4ac4c4d82b90f04d30a9fc8",
       "version_major": 2,
       "version_minor": 0
      },
      "text/plain": [
       "HBox(children=(FloatProgress(value=0.0, max=1.0), HTML(value='')))"
      ]
     },
     "metadata": {},
     "output_type": "display_data"
    },
    {
     "name": "stdout",
     "output_type": "stream",
     "text": [
      "\n",
      "\n",
      "#######################################################\n",
      "********** Processing for Patient ID --> ID00419637202311204720264 **********\n"
     ]
    },
    {
     "name": "stderr",
     "output_type": "stream",
     "text": [
      "/Users/paritoshgupta/miniconda3/envs/ml/lib/python3.7/site-packages/ipykernel_launcher.py:1: FutureWarning: arrays to stack must be passed as a \"sequence\" type such as list or tuple. Support for non-sequence iterables such as generators is deprecated as of NumPy 1.16 and will raise an error in the future.\n",
      "  \"\"\"Entry point for launching an IPython kernel.\n"
     ]
    },
    {
     "name": "stdout",
     "output_type": "stream",
     "text": [
      "Spacing Present in DICOM --> [10.        0.820312  0.820312]\n",
      "Resize Factor --> [10.        0.820312  0.820312]\n",
      "Raw Image Shape --> (28, 512, 512)\n",
      "Resampled Image Shape --> (3,)\n",
      "Real Resize Factor --> [10.         0.8203125  0.8203125]\n",
      "New Spacing --> [1.         0.99999939 0.99999939]\n"
     ]
    },
    {
     "data": {
      "application/vnd.jupyter.widget-view+json": {
       "model_id": "60c2ae2de1994b7b8e1d8c41d199f394",
       "version_major": 2,
       "version_minor": 0
      },
      "text/plain": [
       "HBox(children=(FloatProgress(value=0.0, max=280.0), HTML(value='')))"
      ]
     },
     "metadata": {},
     "output_type": "display_data"
    },
    {
     "name": "stdout",
     "output_type": "stream",
     "text": [
      "\n",
      "# Dropping empty images...\n",
      "- N Images (Pre --> 280, Post --> 280)\n",
      "# Min Max Scaling to get values between 0 and 255\n",
      "** Saving images for Patient --> ID00419637202311204720264 @ Path --> /Users/paritoshgupta/Desktop/pats_7_new_images/ID00419637202311204720264\n",
      "#######################################################\n",
      "\n"
     ]
    }
   ],
   "source": [
    "create_lung_mask_patient_1mm_old(PATH, patients_test, \"test\", output_path, resample_size)"
   ]
  },
  {
   "cell_type": "code",
   "execution_count": 11,
   "metadata": {},
   "outputs": [
    {
     "data": {
      "application/vnd.jupyter.widget-view+json": {
       "model_id": "df276464d996455f90ba00eb9d6b70f0",
       "version_major": 2,
       "version_minor": 0
      },
      "text/plain": [
       "HBox(children=(FloatProgress(value=0.0, max=6.0), HTML(value='')))"
      ]
     },
     "metadata": {},
     "output_type": "display_data"
    },
    {
     "name": "stdout",
     "output_type": "stream",
     "text": [
      "\n",
      "\n",
      "#######################################################\n",
      "********** Processing for Patient ID --> ID00094637202205333947361 **********\n"
     ]
    },
    {
     "name": "stderr",
     "output_type": "stream",
     "text": [
      "/Users/paritoshgupta/miniconda3/envs/ml/lib/python3.7/site-packages/ipykernel_launcher.py:1: FutureWarning: arrays to stack must be passed as a \"sequence\" type such as list or tuple. Support for non-sequence iterables such as generators is deprecated as of NumPy 1.16 and will raise an error in the future.\n",
      "  \"\"\"Entry point for launching an IPython kernel.\n"
     ]
    },
    {
     "name": "stdout",
     "output_type": "stream",
     "text": [
      "Spacing Present in DICOM --> [10.        0.703125  0.703125]\n",
      "Resize Factor --> [10.        0.703125  0.703125]\n",
      "Raw Image Shape --> (24, 512, 512)\n",
      "Resampled Image Shape --> (3,)\n",
      "Real Resize Factor --> [10.        0.703125  0.703125]\n",
      "New Spacing --> [1. 1. 1.]\n"
     ]
    },
    {
     "data": {
      "application/vnd.jupyter.widget-view+json": {
       "model_id": "8015ab8ae54d41b0be16bc02574ba825",
       "version_major": 2,
       "version_minor": 0
      },
      "text/plain": [
       "HBox(children=(FloatProgress(value=0.0, max=240.0), HTML(value='')))"
      ]
     },
     "metadata": {},
     "output_type": "display_data"
    },
    {
     "name": "stdout",
     "output_type": "stream",
     "text": [
      "\n",
      "# Dropping empty images...\n",
      "- N Images (Pre --> 240, Post --> 167)\n",
      "# Min Max Scaling to get values between 0 and 255\n",
      "** Saving images for Patient --> ID00094637202205333947361 @ Path --> /Users/paritoshgupta/Desktop/pats_7_new_images/ID00094637202205333947361\n",
      "#######################################################\n",
      "\n",
      "\n",
      "#######################################################\n",
      "********** Processing for Patient ID --> ID00086637202203494931510 **********\n"
     ]
    },
    {
     "name": "stderr",
     "output_type": "stream",
     "text": [
      "/Users/paritoshgupta/miniconda3/envs/ml/lib/python3.7/site-packages/ipykernel_launcher.py:1: FutureWarning: arrays to stack must be passed as a \"sequence\" type such as list or tuple. Support for non-sequence iterables such as generators is deprecated as of NumPy 1.16 and will raise an error in the future.\n",
      "  \"\"\"Entry point for launching an IPython kernel.\n"
     ]
    },
    {
     "name": "stdout",
     "output_type": "stream",
     "text": [
      "Spacing Present in DICOM --> [10.        0.669922  0.669922]\n",
      "Resize Factor --> [10.        0.669922  0.669922]\n",
      "Raw Image Shape --> (30, 512, 512)\n",
      "Resampled Image Shape --> (3,)\n",
      "Real Resize Factor --> [10.          0.66992188  0.66992188]\n",
      "New Spacing --> [1.         1.00000019 1.00000019]\n"
     ]
    },
    {
     "data": {
      "application/vnd.jupyter.widget-view+json": {
       "model_id": "53268bac4b164af88e81bc5171c49492",
       "version_major": 2,
       "version_minor": 0
      },
      "text/plain": [
       "HBox(children=(FloatProgress(value=0.0, max=300.0), HTML(value='')))"
      ]
     },
     "metadata": {},
     "output_type": "display_data"
    },
    {
     "name": "stdout",
     "output_type": "stream",
     "text": [
      "\n",
      "# Dropping empty images...\n",
      "- N Images (Pre --> 300, Post --> 300)\n",
      "# Min Max Scaling to get values between 0 and 255\n",
      "** Saving images for Patient --> ID00086637202203494931510 @ Path --> /Users/paritoshgupta/Desktop/pats_7_new_images/ID00086637202203494931510\n",
      "#######################################################\n",
      "\n",
      "\n",
      "#######################################################\n",
      "********** Processing for Patient ID --> ID00014637202177757139317 **********\n"
     ]
    },
    {
     "name": "stderr",
     "output_type": "stream",
     "text": [
      "/Users/paritoshgupta/miniconda3/envs/ml/lib/python3.7/site-packages/ipykernel_launcher.py:1: FutureWarning: arrays to stack must be passed as a \"sequence\" type such as list or tuple. Support for non-sequence iterables such as generators is deprecated as of NumPy 1.16 and will raise an error in the future.\n",
      "  \"\"\"Entry point for launching an IPython kernel.\n"
     ]
    },
    {
     "name": "stdout",
     "output_type": "stream",
     "text": [
      "Spacing Present in DICOM --> [10.        0.798828  0.798828]\n",
      "Resize Factor --> [10.        0.798828  0.798828]\n",
      "Raw Image Shape --> (31, 512, 512)\n",
      "Resampled Image Shape --> (3,)\n",
      "Real Resize Factor --> [10.          0.79882812  0.79882812]\n",
      "New Spacing --> [1.         0.99999984 0.99999984]\n"
     ]
    },
    {
     "data": {
      "application/vnd.jupyter.widget-view+json": {
       "model_id": "c246d7fb3ad2428c9eb6e986057fdf3d",
       "version_major": 2,
       "version_minor": 0
      },
      "text/plain": [
       "HBox(children=(FloatProgress(value=0.0, max=310.0), HTML(value='')))"
      ]
     },
     "metadata": {},
     "output_type": "display_data"
    },
    {
     "name": "stdout",
     "output_type": "stream",
     "text": [
      "\n",
      "# Dropping empty images...\n",
      "- N Images (Pre --> 310, Post --> 246)\n",
      "# Min Max Scaling to get values between 0 and 255\n",
      "** Saving images for Patient --> ID00014637202177757139317 @ Path --> /Users/paritoshgupta/Desktop/pats_7_new_images/ID00014637202177757139317\n",
      "#######################################################\n",
      "\n",
      "\n",
      "#######################################################\n",
      "********** Processing for Patient ID --> ID00067637202189903532242 **********\n"
     ]
    },
    {
     "name": "stderr",
     "output_type": "stream",
     "text": [
      "/Users/paritoshgupta/miniconda3/envs/ml/lib/python3.7/site-packages/ipykernel_launcher.py:1: FutureWarning: arrays to stack must be passed as a \"sequence\" type such as list or tuple. Support for non-sequence iterables such as generators is deprecated as of NumPy 1.16 and will raise an error in the future.\n",
      "  \"\"\"Entry point for launching an IPython kernel.\n"
     ]
    },
    {
     "name": "stdout",
     "output_type": "stream",
     "text": [
      "Spacing Present in DICOM --> [1.       0.871094 0.871094]\n",
      "Resize Factor --> [1.       0.871094 0.871094]\n",
      "Raw Image Shape --> (319, 512, 512)\n",
      "Resampled Image Shape --> (3,)\n",
      "Real Resize Factor --> [1.         0.87109375 0.87109375]\n",
      "New Spacing --> [1.         1.00000029 1.00000029]\n"
     ]
    },
    {
     "data": {
      "application/vnd.jupyter.widget-view+json": {
       "model_id": "cacb986ef1944ec5a8201b1a8fc004a1",
       "version_major": 2,
       "version_minor": 0
      },
      "text/plain": [
       "HBox(children=(FloatProgress(value=0.0, max=319.0), HTML(value='')))"
      ]
     },
     "metadata": {},
     "output_type": "display_data"
    },
    {
     "name": "stdout",
     "output_type": "stream",
     "text": [
      "\n",
      "# Dropping empty images...\n",
      "- N Images (Pre --> 319, Post --> 319)\n",
      "# Min Max Scaling to get values between 0 and 255\n",
      "** Saving images for Patient --> ID00067637202189903532242 @ Path --> /Users/paritoshgupta/Desktop/pats_7_new_images/ID00067637202189903532242\n",
      "#######################################################\n",
      "\n",
      "\n",
      "#######################################################\n",
      "********** Processing for Patient ID --> ID00240637202264138860065 **********\n"
     ]
    },
    {
     "name": "stderr",
     "output_type": "stream",
     "text": [
      "/Users/paritoshgupta/miniconda3/envs/ml/lib/python3.7/site-packages/ipykernel_launcher.py:1: FutureWarning: arrays to stack must be passed as a \"sequence\" type such as list or tuple. Support for non-sequence iterables such as generators is deprecated as of NumPy 1.16 and will raise an error in the future.\n",
      "  \"\"\"Entry point for launching an IPython kernel.\n"
     ]
    },
    {
     "name": "stdout",
     "output_type": "stream",
     "text": [
      "Spacing Present in DICOM --> [10.        0.742188  0.742188]\n",
      "Resize Factor --> [10.        0.742188  0.742188]\n",
      "Raw Image Shape --> (33, 512, 512)\n",
      "Resampled Image Shape --> (3,)\n",
      "Real Resize Factor --> [10.         0.7421875  0.7421875]\n",
      "New Spacing --> [1.         1.00000067 1.00000067]\n"
     ]
    },
    {
     "data": {
      "application/vnd.jupyter.widget-view+json": {
       "model_id": "e53a77eed8fd4b1881c361c2545092e6",
       "version_major": 2,
       "version_minor": 0
      },
      "text/plain": [
       "HBox(children=(FloatProgress(value=0.0, max=330.0), HTML(value='')))"
      ]
     },
     "metadata": {},
     "output_type": "display_data"
    },
    {
     "name": "stdout",
     "output_type": "stream",
     "text": [
      "\n",
      "# Dropping empty images...\n",
      "- N Images (Pre --> 330, Post --> 327)\n",
      "# Min Max Scaling to get values between 0 and 255\n",
      "** Saving images for Patient --> ID00240637202264138860065 @ Path --> /Users/paritoshgupta/Desktop/pats_7_new_images/ID00240637202264138860065\n",
      "#######################################################\n",
      "\n",
      "\n",
      "#######################################################\n",
      "********** Processing for Patient ID --> ID00122637202216437668965 **********\n"
     ]
    },
    {
     "name": "stderr",
     "output_type": "stream",
     "text": [
      "/Users/paritoshgupta/miniconda3/envs/ml/lib/python3.7/site-packages/ipykernel_launcher.py:1: FutureWarning: arrays to stack must be passed as a \"sequence\" type such as list or tuple. Support for non-sequence iterables such as generators is deprecated as of NumPy 1.16 and will raise an error in the future.\n",
      "  \"\"\"Entry point for launching an IPython kernel.\n"
     ]
    },
    {
     "name": "stdout",
     "output_type": "stream",
     "text": [
      "Spacing Present in DICOM --> [5.       0.802734 0.802734]\n",
      "Resize Factor --> [5.       0.802734 0.802734]\n",
      "Raw Image Shape --> (71, 512, 512)\n",
      "Resampled Image Shape --> (3,)\n",
      "Real Resize Factor --> [5.         0.80273438 0.80273438]\n",
      "New Spacing --> [1.         0.99999953 0.99999953]\n"
     ]
    },
    {
     "data": {
      "application/vnd.jupyter.widget-view+json": {
       "model_id": "736b5557a4ad4b27850bed033703f019",
       "version_major": 2,
       "version_minor": 0
      },
      "text/plain": [
       "HBox(children=(FloatProgress(value=0.0, max=355.0), HTML(value='')))"
      ]
     },
     "metadata": {},
     "output_type": "display_data"
    },
    {
     "name": "stdout",
     "output_type": "stream",
     "text": [
      "\n",
      "# Dropping empty images...\n",
      "- N Images (Pre --> 355, Post --> 346)\n",
      "# Min Max Scaling to get values between 0 and 255\n",
      "** Saving images for Patient --> ID00122637202216437668965 @ Path --> /Users/paritoshgupta/Desktop/pats_7_new_images/ID00122637202216437668965\n",
      "#######################################################\n",
      "\n"
     ]
    }
   ],
   "source": [
    "create_lung_mask_patient_1mm_old(PATH, patients_train, \"train\", output_path, resample_size)"
   ]
  },
  {
   "cell_type": "code",
   "execution_count": 321,
   "metadata": {},
   "outputs": [],
   "source": [
    "# pat_id = \"ID00419637202311204720264\"\n",
    "# patient_type=\"test\"\n",
    "# path = os.path.join(PATH, patient_type, pat_id)\n",
    "# images = os.listdir(os.path.join(path))\n",
    "# images = sorted(images,key=lambda x: int(os.path.splitext(x)[0]))\n",
    "# slices = [pydicom.dcmread(os.path.join(path, img)) for img in images]\n",
    "# slices.sort(key = lambda x: int(x.InstanceNumber))\n",
    "# slices = [s for s in slices if 'SliceLocation' in s]\n",
    "# slices.sort(key = lambda x: int(x.InstanceNumber))\n",
    "# try:\n",
    "#     slice_thickness = np.abs(slices[0].ImagePositionPatient[2] - slices[1].ImagePositionPatient[2])\n",
    "# except:\n",
    "#     slice_thickness = np.abs(slices[0].SliceLocation - slices[1].SliceLocation)\n",
    "# for s in slices:\n",
    "#     s.SliceThickness = slice_thickness\n"
   ]
  },
  {
   "cell_type": "code",
   "execution_count": 322,
   "metadata": {},
   "outputs": [
    {
     "data": {
      "text/plain": [
       "(28, 1100, 888)"
      ]
     },
     "execution_count": 322,
     "metadata": {},
     "output_type": "execute_result"
    }
   ],
   "source": [
    "# image = np.stack([s.pixel_array for s in slices])\n",
    "# image = image.astype(np.int16)\n",
    "# image.shape  "
   ]
  },
  {
   "cell_type": "code",
   "execution_count": 323,
   "metadata": {},
   "outputs": [],
   "source": [
    "# def crop_image(img: np.ndarray):\n",
    "#     edge_pixel_value = img[0, 0]\n",
    "#     mask = img != edge_pixel_value\n",
    "#     return img[np.ix_(mask.any(1),mask.any(0))]\n"
   ]
  },
  {
   "cell_type": "code",
   "execution_count": 324,
   "metadata": {},
   "outputs": [
    {
     "name": "stderr",
     "output_type": "stream",
     "text": [
      "/Users/paritoshgupta/miniconda3/envs/ml/lib/python3.7/site-packages/IPython/core/interactiveshell.py:3337: FutureWarning: arrays to stack must be passed as a \"sequence\" type such as list or tuple. Support for non-sequence iterables such as generators is deprecated as of NumPy 1.16 and will raise an error in the future.\n",
      "  if (await self.run_code(code, result,  async_=asy)):\n"
     ]
    }
   ],
   "source": [
    "# if image[0].shape[0] != image[0].shape[1]:\n",
    "#     image = np.stack(crop_image(image[i]) for i in range(image.shape[0]))\n"
   ]
  },
  {
   "cell_type": "code",
   "execution_count": 325,
   "metadata": {},
   "outputs": [
    {
     "data": {
      "text/plain": [
       "(28, 512, 512)"
      ]
     },
     "execution_count": 325,
     "metadata": {},
     "output_type": "execute_result"
    }
   ],
   "source": [
    "# image.shape"
   ]
  },
  {
   "cell_type": "code",
   "execution_count": 326,
   "metadata": {},
   "outputs": [
    {
     "data": {
      "text/plain": [
       "<matplotlib.image.AxesImage at 0x7f8f3e6ad6d0>"
      ]
     },
     "execution_count": 326,
     "metadata": {},
     "output_type": "execute_result"
    },
    {
     "data": {
      "image/png": "[encoded data removed]",
      "text/plain": [
       "<Figure size 432x288 with 1 Axes>"
      ]
     },
     "metadata": {
      "needs_background": "light"
     },
     "output_type": "display_data"
    }
   ],
   "source": [
    "# plt.imshow(image[0], \"gray\")"
   ]
  },
  {
   "cell_type": "code",
   "execution_count": 243,
   "metadata": {},
   "outputs": [],
   "source": []
  },
  {
   "cell_type": "code",
   "execution_count": 244,
   "metadata": {},
   "outputs": [
    {
     "data": {
      "text/plain": [
       "<matplotlib.image.AxesImage at 0x7f8f3471cd50>"
      ]
     },
     "execution_count": 244,
     "metadata": {},
     "output_type": "execute_result"
    },
    {
     "data": {
      "image/png": "[encoded data removed]",
      "text/plain": [
       "<Figure size 432x288 with 1 Axes>"
      ]
     },
     "metadata": {
      "needs_background": "light"
     },
     "output_type": "display_data"
    }
   ],
   "source": [
    "# plt.imshow(crop_image(image[0]), \"gray\")"
   ]
  },
  {
   "cell_type": "code",
   "execution_count": 216,
   "metadata": {},
   "outputs": [],
   "source": [
    "# imgs = []\n",
    "\n",
    "# for i in range(len(image)):\n",
    "#     if image[i].shape[0] !=image[i].shape[1]:\n",
    "#         imgs.append(crop_image(image[i]))\n",
    "    "
   ]
  },
  {
   "cell_type": "code",
   "execution_count": 245,
   "metadata": {},
   "outputs": [
    {
     "ename": "IndexError",
     "evalue": "index 1 is out of bounds for axis 0 with size 1",
     "output_type": "error",
     "traceback": [
      "\u001b[0;31m---------------------------------------------------------------------------\u001b[0m",
      "\u001b[0;31mIndexError\u001b[0m                                Traceback (most recent call last)",
      "\u001b[0;32m<ipython-input-245-892fea9915b4>\u001b[0m in \u001b[0;36m<module>\u001b[0;34m\u001b[0m\n\u001b[1;32m      1\u001b[0m \u001b[0;32mif\u001b[0m \u001b[0mimage\u001b[0m\u001b[0;34m[\u001b[0m\u001b[0;36m0\u001b[0m\u001b[0;34m]\u001b[0m\u001b[0;34m.\u001b[0m\u001b[0mshape\u001b[0m\u001b[0;34m[\u001b[0m\u001b[0;36m0\u001b[0m\u001b[0;34m]\u001b[0m \u001b[0;34m!=\u001b[0m \u001b[0mimage\u001b[0m\u001b[0;34m[\u001b[0m\u001b[0;36m0\u001b[0m\u001b[0;34m]\u001b[0m\u001b[0;34m.\u001b[0m\u001b[0mshape\u001b[0m\u001b[0;34m[\u001b[0m\u001b[0;36m1\u001b[0m\u001b[0;34m]\u001b[0m\u001b[0;34m:\u001b[0m\u001b[0;34m\u001b[0m\u001b[0;34m\u001b[0m\u001b[0m\n\u001b[1;32m      2\u001b[0m     \u001b[0;32mfor\u001b[0m \u001b[0mi\u001b[0m \u001b[0;32min\u001b[0m \u001b[0mrange\u001b[0m\u001b[0;34m(\u001b[0m\u001b[0mimage\u001b[0m\u001b[0;34m.\u001b[0m\u001b[0mshape\u001b[0m\u001b[0;34m[\u001b[0m\u001b[0;36m0\u001b[0m\u001b[0;34m]\u001b[0m\u001b[0;34m)\u001b[0m\u001b[0;34m:\u001b[0m\u001b[0;34m\u001b[0m\u001b[0;34m\u001b[0m\u001b[0m\n\u001b[0;32m----> 3\u001b[0;31m         \u001b[0mimgs\u001b[0m \u001b[0;34m=\u001b[0m \u001b[0mnp\u001b[0m\u001b[0;34m.\u001b[0m\u001b[0mstack\u001b[0m\u001b[0;34m(\u001b[0m\u001b[0;34m[\u001b[0m\u001b[0mcrop_image\u001b[0m\u001b[0;34m(\u001b[0m\u001b[0mimage\u001b[0m\u001b[0;34m[\u001b[0m\u001b[0mi\u001b[0m\u001b[0;34m]\u001b[0m\u001b[0;34m)\u001b[0m\u001b[0;34m]\u001b[0m\u001b[0;34m)\u001b[0m\u001b[0;34m\u001b[0m\u001b[0;34m\u001b[0m\u001b[0m\n\u001b[0m\u001b[1;32m      4\u001b[0m         \u001b[0mimgs\u001b[0m \u001b[0;34m=\u001b[0m \u001b[0mimgs\u001b[0m\u001b[0;34m.\u001b[0m\u001b[0mastype\u001b[0m\u001b[0;34m(\u001b[0m\u001b[0mnp\u001b[0m\u001b[0;34m.\u001b[0m\u001b[0mint16\u001b[0m\u001b[0;34m)\u001b[0m\u001b[0;34m\u001b[0m\u001b[0;34m\u001b[0m\u001b[0m\n\u001b[1;32m      5\u001b[0m         \u001b[0mimage\u001b[0m \u001b[0;34m=\u001b[0m \u001b[0mimgs\u001b[0m\u001b[0;34m\u001b[0m\u001b[0;34m\u001b[0m\u001b[0m\n",
      "\u001b[0;31mIndexError\u001b[0m: index 1 is out of bounds for axis 0 with size 1"
     ]
    }
   ],
   "source": [
    "# if image[0].shape[0] != image[0].shape[1]:\n",
    "#     for i in range(image.shape[0]):\n",
    "#         imgs = np.stack([crop_image(image[i])])\n",
    "#         imgs = imgs.astype(np.int16)\n",
    "# #         image = imgs"
   ]
  },
  {
   "cell_type": "code",
   "execution_count": null,
   "metadata": {},
   "outputs": [],
   "source": []
  }
 ],
 "metadata": {
  "kernelspec": {
   "display_name": "Python 3",
   "language": "python",
   "name": "python3"
  },
  "language_info": {
   "codemirror_mode": {
    "name": "ipython",
    "version": 3
   },
   "file_extension": ".py",
   "mimetype": "text/x-python",
   "name": "python",
   "nbconvert_exporter": "python",
   "pygments_lexer": "ipython3",
   "version": "3.7.7"
  },
  "toc": {
   "base_numbering": 1,
   "nav_menu": {},
   "number_sections": true,
   "sideBar": true,
   "skip_h1_title": false,
   "title_cell": "Table of Contents",
   "title_sidebar": "Contents",
   "toc_cell": false,
   "toc_position": {},
   "toc_section_display": true,
   "toc_window_display": false
  }
 },
 "nbformat": 4,
 "nbformat_minor": 4
}
