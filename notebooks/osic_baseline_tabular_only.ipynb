{
 "cells": [
  {
   "cell_type": "markdown",
   "metadata": {},
   "source": [
    "# Idea"
   ]
  },
  {
   "cell_type": "markdown",
   "metadata": {},
   "source": [
    "\n",
    "- We treat every single FVC measurement as if it were a \"baseline\" measurement. This increases the number of training samples from 1549 to 12144\n",
    "- The week of that baseline is base_Week and the associated FVC is base_FVC along with base_Percent\n",
    "- We calculate the number of weeks since that \"baseline\" in base_Week, to create Week_passed\n",
    "- Our aim is to build a LGBM model that can predict FVC in any week if you are given a baseline. This means that when predicting on test, we can provide a list of weeks to generate predictions\n",
    "- The features we use are: base_FVC, base_Percent, base_Age, Week_passed, Sex, SmokingStatus\n",
    "- Once we have FVC predictions, we build a second LGBM model to predict confidence, which we create labels for in cell 14 based on how inaccurate our FVC predictions were"
   ]
  },
  {
   "cell_type": "markdown",
   "metadata": {},
   "source": [
    "# Import packages"
   ]
  },
  {
   "cell_type": "code",
   "execution_count": 30,
   "metadata": {},
   "outputs": [],
   "source": [
    "# !pip install category_encoders\n",
    "# !pip install lightgbm\n",
    "import os\n",
    "from logging import getLogger, INFO, StreamHandler, FileHandler, Formatter\n",
    "from functools import partial\n",
    "from sklearn import preprocessing\n",
    "import numpy as np\n",
    "import pandas as pd\n",
    "import random\n",
    "import math\n",
    "\n",
    "from tqdm.notebook import tqdm\n",
    "\n",
    "import matplotlib.pyplot as plt\n",
    "import seaborn as sns\n",
    "\n",
    "from sklearn.model_selection import StratifiedKFold, GroupKFold, KFold\n",
    "from sklearn.metrics import mean_squared_error\n",
    "import category_encoders as ce\n",
    "\n",
    "from PIL import Image\n",
    "import cv2\n",
    "import pydicom\n",
    "\n",
    "import torch\n",
    "\n",
    "import lightgbm as lgb\n",
    "from sklearn.linear_model import Ridge\n",
    "\n",
    "import warnings\n",
    "warnings.filterwarnings(\"ignore\")\n",
    "\n",
    "# !pip install hyperopt\n",
    "import numpy as np\n",
    "import pandas as pd\n",
    "from functools import partial\n",
    "import xgboost as xgb\n",
    "from numpy.ma import MaskedArray\n",
    "import sklearn.utils.fixes\n",
    "sklearn.utils.fixes.MaskedArray = MaskedArray\n",
    "\n",
    "from sklearn import metrics\n",
    "from sklearn import ensemble\n",
    "from sklearn import model_selection\n",
    "import hyperopt\n",
    "from hyperopt import hp, fmin, tpe, Trials\n",
    "from hyperopt.pyll.base import scope"
   ]
  },
  {
   "cell_type": "markdown",
   "metadata": {},
   "source": [
    "# Utils"
   ]
  },
  {
   "cell_type": "code",
   "execution_count": 31,
   "metadata": {},
   "outputs": [],
   "source": [
    "def get_logger(filename='log'):\n",
    "    logger = getLogger(__name__)\n",
    "    logger.setLevel(INFO)\n",
    "    handler1 = StreamHandler()\n",
    "    handler1.setFormatter(Formatter(\"%(message)s\"))\n",
    "    handler2 = FileHandler(filename=f\"{filename}.log\")\n",
    "    handler2.setFormatter(Formatter(\"%(message)s\"))\n",
    "    logger.addHandler(handler1)\n",
    "    logger.addHandler(handler2)\n",
    "    return logger\n",
    "\n",
    "logger = get_logger()\n",
    "\n",
    "\n",
    "def seed_everything(seed=777):\n",
    "    random.seed(seed)\n",
    "    os.environ['PYTHONHASHSEED'] = str(seed)\n",
    "    np.random.seed(seed)\n",
    "    torch.manual_seed(seed)\n",
    "    torch.cuda.manual_seed(seed)\n",
    "    torch.backends.cudnn.deterministic = True"
   ]
  },
  {
   "cell_type": "markdown",
   "metadata": {},
   "source": [
    "# Config"
   ]
  },
  {
   "cell_type": "code",
   "execution_count": 32,
   "metadata": {},
   "outputs": [],
   "source": [
    "OUTPUT_DICT = './'\n",
    "\n",
    "ID = 'Patient_Week'\n",
    "TARGET = 'FVC'\n",
    "SEED = 42\n",
    "seed_everything(seed=SEED)\n",
    "\n",
    "N_FOLD = 4"
   ]
  },
  {
   "cell_type": "markdown",
   "metadata": {},
   "source": [
    "# Data Prep"
   ]
  },
  {
   "cell_type": "markdown",
   "metadata": {},
   "source": [
    "## Loading"
   ]
  },
  {
   "cell_type": "code",
   "execution_count": 33,
   "metadata": {},
   "outputs": [
    {
     "name": "stdout",
     "output_type": "stream",
     "text": [
      "(1549, 8)\n"
     ]
    },
    {
     "data": {
      "text/html": [
       "<div>\n",
       "<style scoped>\n",
       "    .dataframe tbody tr th:only-of-type {\n",
       "        vertical-align: middle;\n",
       "    }\n",
       "\n",
       "    .dataframe tbody tr th {\n",
       "        vertical-align: top;\n",
       "    }\n",
       "\n",
       "    .dataframe thead th {\n",
       "        text-align: right;\n",
       "    }\n",
       "</style>\n",
       "<table border=\"1\" class=\"dataframe\">\n",
       "  <thead>\n",
       "    <tr style=\"text-align: right;\">\n",
       "      <th></th>\n",
       "      <th>Patient</th>\n",
       "      <th>Weeks</th>\n",
       "      <th>FVC</th>\n",
       "      <th>Percent</th>\n",
       "      <th>Age</th>\n",
       "      <th>Sex</th>\n",
       "      <th>SmokingStatus</th>\n",
       "      <th>Patient_Week</th>\n",
       "    </tr>\n",
       "  </thead>\n",
       "  <tbody>\n",
       "    <tr>\n",
       "      <th>0</th>\n",
       "      <td>ID00007637202177411956430</td>\n",
       "      <td>-4</td>\n",
       "      <td>2315</td>\n",
       "      <td>58.253649</td>\n",
       "      <td>79</td>\n",
       "      <td>Male</td>\n",
       "      <td>Ex-smoker</td>\n",
       "      <td>ID00007637202177411956430_-4</td>\n",
       "    </tr>\n",
       "    <tr>\n",
       "      <th>1</th>\n",
       "      <td>ID00007637202177411956430</td>\n",
       "      <td>5</td>\n",
       "      <td>2214</td>\n",
       "      <td>55.712129</td>\n",
       "      <td>79</td>\n",
       "      <td>Male</td>\n",
       "      <td>Ex-smoker</td>\n",
       "      <td>ID00007637202177411956430_5</td>\n",
       "    </tr>\n",
       "    <tr>\n",
       "      <th>2</th>\n",
       "      <td>ID00007637202177411956430</td>\n",
       "      <td>7</td>\n",
       "      <td>2061</td>\n",
       "      <td>51.862104</td>\n",
       "      <td>79</td>\n",
       "      <td>Male</td>\n",
       "      <td>Ex-smoker</td>\n",
       "      <td>ID00007637202177411956430_7</td>\n",
       "    </tr>\n",
       "    <tr>\n",
       "      <th>3</th>\n",
       "      <td>ID00007637202177411956430</td>\n",
       "      <td>9</td>\n",
       "      <td>2144</td>\n",
       "      <td>53.950679</td>\n",
       "      <td>79</td>\n",
       "      <td>Male</td>\n",
       "      <td>Ex-smoker</td>\n",
       "      <td>ID00007637202177411956430_9</td>\n",
       "    </tr>\n",
       "    <tr>\n",
       "      <th>4</th>\n",
       "      <td>ID00007637202177411956430</td>\n",
       "      <td>11</td>\n",
       "      <td>2069</td>\n",
       "      <td>52.063412</td>\n",
       "      <td>79</td>\n",
       "      <td>Male</td>\n",
       "      <td>Ex-smoker</td>\n",
       "      <td>ID00007637202177411956430_11</td>\n",
       "    </tr>\n",
       "  </tbody>\n",
       "</table>\n",
       "</div>"
      ],
      "text/plain": [
       "                     Patient  Weeks   FVC    Percent  Age   Sex SmokingStatus  \\\n",
       "0  ID00007637202177411956430     -4  2315  58.253649   79  Male     Ex-smoker   \n",
       "1  ID00007637202177411956430      5  2214  55.712129   79  Male     Ex-smoker   \n",
       "2  ID00007637202177411956430      7  2061  51.862104   79  Male     Ex-smoker   \n",
       "3  ID00007637202177411956430      9  2144  53.950679   79  Male     Ex-smoker   \n",
       "4  ID00007637202177411956430     11  2069  52.063412   79  Male     Ex-smoker   \n",
       "\n",
       "                   Patient_Week  \n",
       "0  ID00007637202177411956430_-4  \n",
       "1   ID00007637202177411956430_5  \n",
       "2   ID00007637202177411956430_7  \n",
       "3   ID00007637202177411956430_9  \n",
       "4  ID00007637202177411956430_11  "
      ]
     },
     "execution_count": 33,
     "metadata": {},
     "output_type": "execute_result"
    }
   ],
   "source": [
    "train = pd.read_csv(\"../input/osic-pulmonary-fibrosis-progression/train.csv\")\n",
    "train[ID] = train['Patient'].astype(str) + \"_\" + train[\"Weeks\"].astype(str)\n",
    "print(train.shape)\n",
    "train.head()"
   ]
  },
  {
   "cell_type": "markdown",
   "metadata": {},
   "source": [
    "## Construct training input "
   ]
  },
  {
   "cell_type": "code",
   "execution_count": 34,
   "metadata": {},
   "outputs": [
    {
     "data": {
      "application/vnd.jupyter.widget-view+json": {
       "model_id": "e09994834908425f863a1a0090d53ea8",
       "version_major": 2,
       "version_minor": 0
      },
      "text/plain": [
       "HBox(children=(FloatProgress(value=0.0, max=176.0), HTML(value='')))"
      ]
     },
     "metadata": {},
     "output_type": "display_data"
    },
    {
     "name": "stdout",
     "output_type": "stream",
     "text": [
      "\n",
      "(13707, 11)\n"
     ]
    },
    {
     "data": {
      "text/html": [
       "<div>\n",
       "<style scoped>\n",
       "    .dataframe tbody tr th:only-of-type {\n",
       "        vertical-align: middle;\n",
       "    }\n",
       "\n",
       "    .dataframe tbody tr th {\n",
       "        vertical-align: top;\n",
       "    }\n",
       "\n",
       "    .dataframe thead th {\n",
       "        text-align: right;\n",
       "    }\n",
       "</style>\n",
       "<table border=\"1\" class=\"dataframe\">\n",
       "  <thead>\n",
       "    <tr style=\"text-align: right;\">\n",
       "      <th></th>\n",
       "      <th>Patient</th>\n",
       "      <th>predict_Week</th>\n",
       "      <th>FVC</th>\n",
       "      <th>Patient_Week</th>\n",
       "      <th>base_Week</th>\n",
       "      <th>base_FVC</th>\n",
       "      <th>base_Percent</th>\n",
       "      <th>base_Age</th>\n",
       "      <th>Sex</th>\n",
       "      <th>SmokingStatus</th>\n",
       "      <th>Week_passed</th>\n",
       "    </tr>\n",
       "  </thead>\n",
       "  <tbody>\n",
       "    <tr>\n",
       "      <th>0</th>\n",
       "      <td>ID00007637202177411956430</td>\n",
       "      <td>-4</td>\n",
       "      <td>2315</td>\n",
       "      <td>ID00007637202177411956430_-4</td>\n",
       "      <td>-4</td>\n",
       "      <td>2315</td>\n",
       "      <td>58.253649</td>\n",
       "      <td>79</td>\n",
       "      <td>Male</td>\n",
       "      <td>Ex-smoker</td>\n",
       "      <td>0</td>\n",
       "    </tr>\n",
       "    <tr>\n",
       "      <th>1</th>\n",
       "      <td>ID00007637202177411956430</td>\n",
       "      <td>5</td>\n",
       "      <td>2214</td>\n",
       "      <td>ID00007637202177411956430_5</td>\n",
       "      <td>-4</td>\n",
       "      <td>2315</td>\n",
       "      <td>58.253649</td>\n",
       "      <td>79</td>\n",
       "      <td>Male</td>\n",
       "      <td>Ex-smoker</td>\n",
       "      <td>9</td>\n",
       "    </tr>\n",
       "    <tr>\n",
       "      <th>2</th>\n",
       "      <td>ID00007637202177411956430</td>\n",
       "      <td>7</td>\n",
       "      <td>2061</td>\n",
       "      <td>ID00007637202177411956430_7</td>\n",
       "      <td>-4</td>\n",
       "      <td>2315</td>\n",
       "      <td>58.253649</td>\n",
       "      <td>79</td>\n",
       "      <td>Male</td>\n",
       "      <td>Ex-smoker</td>\n",
       "      <td>11</td>\n",
       "    </tr>\n",
       "    <tr>\n",
       "      <th>3</th>\n",
       "      <td>ID00007637202177411956430</td>\n",
       "      <td>9</td>\n",
       "      <td>2144</td>\n",
       "      <td>ID00007637202177411956430_9</td>\n",
       "      <td>-4</td>\n",
       "      <td>2315</td>\n",
       "      <td>58.253649</td>\n",
       "      <td>79</td>\n",
       "      <td>Male</td>\n",
       "      <td>Ex-smoker</td>\n",
       "      <td>13</td>\n",
       "    </tr>\n",
       "    <tr>\n",
       "      <th>4</th>\n",
       "      <td>ID00007637202177411956430</td>\n",
       "      <td>11</td>\n",
       "      <td>2069</td>\n",
       "      <td>ID00007637202177411956430_11</td>\n",
       "      <td>-4</td>\n",
       "      <td>2315</td>\n",
       "      <td>58.253649</td>\n",
       "      <td>79</td>\n",
       "      <td>Male</td>\n",
       "      <td>Ex-smoker</td>\n",
       "      <td>15</td>\n",
       "    </tr>\n",
       "  </tbody>\n",
       "</table>\n",
       "</div>"
      ],
      "text/plain": [
       "                     Patient  predict_Week   FVC  \\\n",
       "0  ID00007637202177411956430            -4  2315   \n",
       "1  ID00007637202177411956430             5  2214   \n",
       "2  ID00007637202177411956430             7  2061   \n",
       "3  ID00007637202177411956430             9  2144   \n",
       "4  ID00007637202177411956430            11  2069   \n",
       "\n",
       "                   Patient_Week  base_Week  base_FVC  base_Percent  base_Age  \\\n",
       "0  ID00007637202177411956430_-4         -4      2315     58.253649        79   \n",
       "1   ID00007637202177411956430_5         -4      2315     58.253649        79   \n",
       "2   ID00007637202177411956430_7         -4      2315     58.253649        79   \n",
       "3   ID00007637202177411956430_9         -4      2315     58.253649        79   \n",
       "4  ID00007637202177411956430_11         -4      2315     58.253649        79   \n",
       "\n",
       "    Sex SmokingStatus  Week_passed  \n",
       "0  Male     Ex-smoker            0  \n",
       "1  Male     Ex-smoker            9  \n",
       "2  Male     Ex-smoker           11  \n",
       "3  Male     Ex-smoker           13  \n",
       "4  Male     Ex-smoker           15  "
      ]
     },
     "execution_count": 34,
     "metadata": {},
     "output_type": "execute_result"
    }
   ],
   "source": [
    "output = pd.DataFrame()\n",
    "gb = train.groupby('Patient')\n",
    "tk0 = tqdm(gb, total=len(gb)) \n",
    "for _, usr_df in tk0:\n",
    "    usr_output = pd.DataFrame()\n",
    "    for week, tmp in usr_df.groupby('Weeks'):\n",
    "        rename_cols = {'Weeks': 'base_Week', 'FVC': 'base_FVC', 'Percent': 'base_Percent', 'Age': 'base_Age'}\n",
    "        tmp = tmp.drop(columns='Patient_Week').rename(columns=rename_cols)\n",
    "        drop_cols = ['Age', 'Sex', 'SmokingStatus', 'Percent']\n",
    "        _usr_output = usr_df.drop(columns=drop_cols).rename(columns={'Weeks': 'predict_Week'}).merge(tmp, on='Patient')\n",
    "        _usr_output['Week_passed'] = _usr_output['predict_Week'] - _usr_output['base_Week']\n",
    "        usr_output = pd.concat([usr_output, _usr_output])\n",
    "    output = pd.concat([output, usr_output])\n",
    "\n",
    "print(output.shape)\n",
    "output.head()"
   ]
  },
  {
   "cell_type": "code",
   "execution_count": 35,
   "metadata": {},
   "outputs": [
    {
     "name": "stdout",
     "output_type": "stream",
     "text": [
      "(12144, 11)\n"
     ]
    },
    {
     "data": {
      "text/html": [
       "<div>\n",
       "<style scoped>\n",
       "    .dataframe tbody tr th:only-of-type {\n",
       "        vertical-align: middle;\n",
       "    }\n",
       "\n",
       "    .dataframe tbody tr th {\n",
       "        vertical-align: top;\n",
       "    }\n",
       "\n",
       "    .dataframe thead th {\n",
       "        text-align: right;\n",
       "    }\n",
       "</style>\n",
       "<table border=\"1\" class=\"dataframe\">\n",
       "  <thead>\n",
       "    <tr style=\"text-align: right;\">\n",
       "      <th></th>\n",
       "      <th>Patient</th>\n",
       "      <th>predict_Week</th>\n",
       "      <th>FVC</th>\n",
       "      <th>Patient_Week</th>\n",
       "      <th>base_Week</th>\n",
       "      <th>base_FVC</th>\n",
       "      <th>base_Percent</th>\n",
       "      <th>base_Age</th>\n",
       "      <th>Sex</th>\n",
       "      <th>SmokingStatus</th>\n",
       "      <th>Week_passed</th>\n",
       "    </tr>\n",
       "  </thead>\n",
       "  <tbody>\n",
       "    <tr>\n",
       "      <th>0</th>\n",
       "      <td>ID00007637202177411956430</td>\n",
       "      <td>5</td>\n",
       "      <td>2214</td>\n",
       "      <td>ID00007637202177411956430_5</td>\n",
       "      <td>-4</td>\n",
       "      <td>2315</td>\n",
       "      <td>58.253649</td>\n",
       "      <td>79</td>\n",
       "      <td>Male</td>\n",
       "      <td>Ex-smoker</td>\n",
       "      <td>9</td>\n",
       "    </tr>\n",
       "    <tr>\n",
       "      <th>1</th>\n",
       "      <td>ID00007637202177411956430</td>\n",
       "      <td>7</td>\n",
       "      <td>2061</td>\n",
       "      <td>ID00007637202177411956430_7</td>\n",
       "      <td>-4</td>\n",
       "      <td>2315</td>\n",
       "      <td>58.253649</td>\n",
       "      <td>79</td>\n",
       "      <td>Male</td>\n",
       "      <td>Ex-smoker</td>\n",
       "      <td>11</td>\n",
       "    </tr>\n",
       "    <tr>\n",
       "      <th>2</th>\n",
       "      <td>ID00007637202177411956430</td>\n",
       "      <td>9</td>\n",
       "      <td>2144</td>\n",
       "      <td>ID00007637202177411956430_9</td>\n",
       "      <td>-4</td>\n",
       "      <td>2315</td>\n",
       "      <td>58.253649</td>\n",
       "      <td>79</td>\n",
       "      <td>Male</td>\n",
       "      <td>Ex-smoker</td>\n",
       "      <td>13</td>\n",
       "    </tr>\n",
       "    <tr>\n",
       "      <th>3</th>\n",
       "      <td>ID00007637202177411956430</td>\n",
       "      <td>11</td>\n",
       "      <td>2069</td>\n",
       "      <td>ID00007637202177411956430_11</td>\n",
       "      <td>-4</td>\n",
       "      <td>2315</td>\n",
       "      <td>58.253649</td>\n",
       "      <td>79</td>\n",
       "      <td>Male</td>\n",
       "      <td>Ex-smoker</td>\n",
       "      <td>15</td>\n",
       "    </tr>\n",
       "    <tr>\n",
       "      <th>4</th>\n",
       "      <td>ID00007637202177411956430</td>\n",
       "      <td>17</td>\n",
       "      <td>2101</td>\n",
       "      <td>ID00007637202177411956430_17</td>\n",
       "      <td>-4</td>\n",
       "      <td>2315</td>\n",
       "      <td>58.253649</td>\n",
       "      <td>79</td>\n",
       "      <td>Male</td>\n",
       "      <td>Ex-smoker</td>\n",
       "      <td>21</td>\n",
       "    </tr>\n",
       "  </tbody>\n",
       "</table>\n",
       "</div>"
      ],
      "text/plain": [
       "                     Patient  predict_Week   FVC  \\\n",
       "0  ID00007637202177411956430             5  2214   \n",
       "1  ID00007637202177411956430             7  2061   \n",
       "2  ID00007637202177411956430             9  2144   \n",
       "3  ID00007637202177411956430            11  2069   \n",
       "4  ID00007637202177411956430            17  2101   \n",
       "\n",
       "                   Patient_Week  base_Week  base_FVC  base_Percent  base_Age  \\\n",
       "0   ID00007637202177411956430_5         -4      2315     58.253649        79   \n",
       "1   ID00007637202177411956430_7         -4      2315     58.253649        79   \n",
       "2   ID00007637202177411956430_9         -4      2315     58.253649        79   \n",
       "3  ID00007637202177411956430_11         -4      2315     58.253649        79   \n",
       "4  ID00007637202177411956430_17         -4      2315     58.253649        79   \n",
       "\n",
       "    Sex SmokingStatus  Week_passed  \n",
       "0  Male     Ex-smoker            9  \n",
       "1  Male     Ex-smoker           11  \n",
       "2  Male     Ex-smoker           13  \n",
       "3  Male     Ex-smoker           15  \n",
       "4  Male     Ex-smoker           21  "
      ]
     },
     "execution_count": 35,
     "metadata": {},
     "output_type": "execute_result"
    }
   ],
   "source": [
    "train = output[output['Week_passed']!=0].reset_index(drop=True)\n",
    "print(train.shape)\n",
    "train.head()\n"
   ]
  },
  {
   "cell_type": "markdown",
   "metadata": {},
   "source": [
    "## Construct Test Input"
   ]
  },
  {
   "cell_type": "code",
   "execution_count": 36,
   "metadata": {},
   "outputs": [
    {
     "name": "stdout",
     "output_type": "stream",
     "text": [
      "(730, 10)\n"
     ]
    },
    {
     "data": {
      "text/html": [
       "<div>\n",
       "<style scoped>\n",
       "    .dataframe tbody tr th:only-of-type {\n",
       "        vertical-align: middle;\n",
       "    }\n",
       "\n",
       "    .dataframe tbody tr th {\n",
       "        vertical-align: top;\n",
       "    }\n",
       "\n",
       "    .dataframe thead th {\n",
       "        text-align: right;\n",
       "    }\n",
       "</style>\n",
       "<table border=\"1\" class=\"dataframe\">\n",
       "  <thead>\n",
       "    <tr style=\"text-align: right;\">\n",
       "      <th></th>\n",
       "      <th>Patient_Week</th>\n",
       "      <th>Patient</th>\n",
       "      <th>predict_Week</th>\n",
       "      <th>base_Week</th>\n",
       "      <th>base_FVC</th>\n",
       "      <th>base_Percent</th>\n",
       "      <th>base_Age</th>\n",
       "      <th>Sex</th>\n",
       "      <th>SmokingStatus</th>\n",
       "      <th>Week_passed</th>\n",
       "    </tr>\n",
       "  </thead>\n",
       "  <tbody>\n",
       "    <tr>\n",
       "      <th>0</th>\n",
       "      <td>ID00419637202311204720264_-12</td>\n",
       "      <td>ID00419637202311204720264</td>\n",
       "      <td>-12</td>\n",
       "      <td>6</td>\n",
       "      <td>3020</td>\n",
       "      <td>70.186855</td>\n",
       "      <td>73</td>\n",
       "      <td>Male</td>\n",
       "      <td>Ex-smoker</td>\n",
       "      <td>-18</td>\n",
       "    </tr>\n",
       "    <tr>\n",
       "      <th>1</th>\n",
       "      <td>ID00419637202311204720264_-11</td>\n",
       "      <td>ID00419637202311204720264</td>\n",
       "      <td>-11</td>\n",
       "      <td>6</td>\n",
       "      <td>3020</td>\n",
       "      <td>70.186855</td>\n",
       "      <td>73</td>\n",
       "      <td>Male</td>\n",
       "      <td>Ex-smoker</td>\n",
       "      <td>-17</td>\n",
       "    </tr>\n",
       "    <tr>\n",
       "      <th>2</th>\n",
       "      <td>ID00419637202311204720264_-10</td>\n",
       "      <td>ID00419637202311204720264</td>\n",
       "      <td>-10</td>\n",
       "      <td>6</td>\n",
       "      <td>3020</td>\n",
       "      <td>70.186855</td>\n",
       "      <td>73</td>\n",
       "      <td>Male</td>\n",
       "      <td>Ex-smoker</td>\n",
       "      <td>-16</td>\n",
       "    </tr>\n",
       "    <tr>\n",
       "      <th>3</th>\n",
       "      <td>ID00419637202311204720264_-9</td>\n",
       "      <td>ID00419637202311204720264</td>\n",
       "      <td>-9</td>\n",
       "      <td>6</td>\n",
       "      <td>3020</td>\n",
       "      <td>70.186855</td>\n",
       "      <td>73</td>\n",
       "      <td>Male</td>\n",
       "      <td>Ex-smoker</td>\n",
       "      <td>-15</td>\n",
       "    </tr>\n",
       "    <tr>\n",
       "      <th>4</th>\n",
       "      <td>ID00419637202311204720264_-8</td>\n",
       "      <td>ID00419637202311204720264</td>\n",
       "      <td>-8</td>\n",
       "      <td>6</td>\n",
       "      <td>3020</td>\n",
       "      <td>70.186855</td>\n",
       "      <td>73</td>\n",
       "      <td>Male</td>\n",
       "      <td>Ex-smoker</td>\n",
       "      <td>-14</td>\n",
       "    </tr>\n",
       "  </tbody>\n",
       "</table>\n",
       "</div>"
      ],
      "text/plain": [
       "                    Patient_Week                    Patient  predict_Week  \\\n",
       "0  ID00419637202311204720264_-12  ID00419637202311204720264           -12   \n",
       "1  ID00419637202311204720264_-11  ID00419637202311204720264           -11   \n",
       "2  ID00419637202311204720264_-10  ID00419637202311204720264           -10   \n",
       "3   ID00419637202311204720264_-9  ID00419637202311204720264            -9   \n",
       "4   ID00419637202311204720264_-8  ID00419637202311204720264            -8   \n",
       "\n",
       "   base_Week  base_FVC  base_Percent  base_Age   Sex SmokingStatus  \\\n",
       "0          6      3020     70.186855        73  Male     Ex-smoker   \n",
       "1          6      3020     70.186855        73  Male     Ex-smoker   \n",
       "2          6      3020     70.186855        73  Male     Ex-smoker   \n",
       "3          6      3020     70.186855        73  Male     Ex-smoker   \n",
       "4          6      3020     70.186855        73  Male     Ex-smoker   \n",
       "\n",
       "   Week_passed  \n",
       "0          -18  \n",
       "1          -17  \n",
       "2          -16  \n",
       "3          -15  \n",
       "4          -14  "
      ]
     },
     "execution_count": 36,
     "metadata": {},
     "output_type": "execute_result"
    }
   ],
   "source": [
    "test = pd.read_csv('../input/osic-pulmonary-fibrosis-progression/test.csv')\\\n",
    "        .rename(columns={'Weeks': 'base_Week', 'FVC': 'base_FVC', 'Percent': 'base_Percent', 'Age': 'base_Age'})\n",
    "submission = pd.read_csv('../input/osic-pulmonary-fibrosis-progression/sample_submission.csv')\n",
    "submission['Patient'] = submission['Patient_Week'].apply(lambda x: x.split('_')[0])\n",
    "submission['predict_Week'] = submission['Patient_Week'].apply(lambda x: x.split('_')[1]).astype(int)\n",
    "test = submission.drop(columns=['FVC', 'Confidence']).merge(test, on='Patient')\n",
    "test['Week_passed'] = test['predict_Week'] - test['base_Week']\n",
    "print(test.shape)\n",
    "test.head()"
   ]
  },
  {
   "cell_type": "code",
   "execution_count": 37,
   "metadata": {},
   "outputs": [
    {
     "name": "stdout",
     "output_type": "stream",
     "text": [
      "(730, 3)\n"
     ]
    },
    {
     "data": {
      "text/html": [
       "<div>\n",
       "<style scoped>\n",
       "    .dataframe tbody tr th:only-of-type {\n",
       "        vertical-align: middle;\n",
       "    }\n",
       "\n",
       "    .dataframe tbody tr th {\n",
       "        vertical-align: top;\n",
       "    }\n",
       "\n",
       "    .dataframe thead th {\n",
       "        text-align: right;\n",
       "    }\n",
       "</style>\n",
       "<table border=\"1\" class=\"dataframe\">\n",
       "  <thead>\n",
       "    <tr style=\"text-align: right;\">\n",
       "      <th></th>\n",
       "      <th>Patient_Week</th>\n",
       "      <th>FVC</th>\n",
       "      <th>Confidence</th>\n",
       "    </tr>\n",
       "  </thead>\n",
       "  <tbody>\n",
       "    <tr>\n",
       "      <th>0</th>\n",
       "      <td>ID00419637202311204720264_-12</td>\n",
       "      <td>2000</td>\n",
       "      <td>100</td>\n",
       "    </tr>\n",
       "    <tr>\n",
       "      <th>1</th>\n",
       "      <td>ID00421637202311550012437_-12</td>\n",
       "      <td>2000</td>\n",
       "      <td>100</td>\n",
       "    </tr>\n",
       "    <tr>\n",
       "      <th>2</th>\n",
       "      <td>ID00422637202311677017371_-12</td>\n",
       "      <td>2000</td>\n",
       "      <td>100</td>\n",
       "    </tr>\n",
       "    <tr>\n",
       "      <th>3</th>\n",
       "      <td>ID00423637202312137826377_-12</td>\n",
       "      <td>2000</td>\n",
       "      <td>100</td>\n",
       "    </tr>\n",
       "    <tr>\n",
       "      <th>4</th>\n",
       "      <td>ID00426637202313170790466_-12</td>\n",
       "      <td>2000</td>\n",
       "      <td>100</td>\n",
       "    </tr>\n",
       "  </tbody>\n",
       "</table>\n",
       "</div>"
      ],
      "text/plain": [
       "                    Patient_Week   FVC  Confidence\n",
       "0  ID00419637202311204720264_-12  2000         100\n",
       "1  ID00421637202311550012437_-12  2000         100\n",
       "2  ID00422637202311677017371_-12  2000         100\n",
       "3  ID00423637202312137826377_-12  2000         100\n",
       "4  ID00426637202313170790466_-12  2000         100"
      ]
     },
     "execution_count": 37,
     "metadata": {},
     "output_type": "execute_result"
    }
   ],
   "source": [
    "submission = pd.read_csv('../input/osic-pulmonary-fibrosis-progression/sample_submission.csv')\n",
    "print(submission.shape)\n",
    "submission.head()"
   ]
  },
  {
   "cell_type": "markdown",
   "metadata": {},
   "source": [
    "# Modeling - Tabular data only"
   ]
  },
  {
   "cell_type": "markdown",
   "metadata": {},
   "source": [
    "## Prepare folds"
   ]
  },
  {
   "cell_type": "code",
   "execution_count": 38,
   "metadata": {},
   "outputs": [
    {
     "data": {
      "text/html": [
       "<div>\n",
       "<style scoped>\n",
       "    .dataframe tbody tr th:only-of-type {\n",
       "        vertical-align: middle;\n",
       "    }\n",
       "\n",
       "    .dataframe tbody tr th {\n",
       "        vertical-align: top;\n",
       "    }\n",
       "\n",
       "    .dataframe thead th {\n",
       "        text-align: right;\n",
       "    }\n",
       "</style>\n",
       "<table border=\"1\" class=\"dataframe\">\n",
       "  <thead>\n",
       "    <tr style=\"text-align: right;\">\n",
       "      <th></th>\n",
       "      <th>Patient</th>\n",
       "      <th>predict_Week</th>\n",
       "      <th>FVC</th>\n",
       "      <th>Patient_Week</th>\n",
       "      <th>base_Week</th>\n",
       "      <th>base_FVC</th>\n",
       "      <th>base_Percent</th>\n",
       "      <th>base_Age</th>\n",
       "      <th>Sex</th>\n",
       "      <th>SmokingStatus</th>\n",
       "      <th>Week_passed</th>\n",
       "      <th>fold</th>\n",
       "    </tr>\n",
       "  </thead>\n",
       "  <tbody>\n",
       "    <tr>\n",
       "      <th>0</th>\n",
       "      <td>ID00007637202177411956430</td>\n",
       "      <td>5</td>\n",
       "      <td>2214</td>\n",
       "      <td>ID00007637202177411956430_5</td>\n",
       "      <td>-4</td>\n",
       "      <td>2315</td>\n",
       "      <td>58.253649</td>\n",
       "      <td>79</td>\n",
       "      <td>Male</td>\n",
       "      <td>Ex-smoker</td>\n",
       "      <td>9</td>\n",
       "      <td>2</td>\n",
       "    </tr>\n",
       "    <tr>\n",
       "      <th>1</th>\n",
       "      <td>ID00007637202177411956430</td>\n",
       "      <td>7</td>\n",
       "      <td>2061</td>\n",
       "      <td>ID00007637202177411956430_7</td>\n",
       "      <td>-4</td>\n",
       "      <td>2315</td>\n",
       "      <td>58.253649</td>\n",
       "      <td>79</td>\n",
       "      <td>Male</td>\n",
       "      <td>Ex-smoker</td>\n",
       "      <td>11</td>\n",
       "      <td>2</td>\n",
       "    </tr>\n",
       "    <tr>\n",
       "      <th>2</th>\n",
       "      <td>ID00007637202177411956430</td>\n",
       "      <td>9</td>\n",
       "      <td>2144</td>\n",
       "      <td>ID00007637202177411956430_9</td>\n",
       "      <td>-4</td>\n",
       "      <td>2315</td>\n",
       "      <td>58.253649</td>\n",
       "      <td>79</td>\n",
       "      <td>Male</td>\n",
       "      <td>Ex-smoker</td>\n",
       "      <td>13</td>\n",
       "      <td>2</td>\n",
       "    </tr>\n",
       "    <tr>\n",
       "      <th>3</th>\n",
       "      <td>ID00007637202177411956430</td>\n",
       "      <td>11</td>\n",
       "      <td>2069</td>\n",
       "      <td>ID00007637202177411956430_11</td>\n",
       "      <td>-4</td>\n",
       "      <td>2315</td>\n",
       "      <td>58.253649</td>\n",
       "      <td>79</td>\n",
       "      <td>Male</td>\n",
       "      <td>Ex-smoker</td>\n",
       "      <td>15</td>\n",
       "      <td>2</td>\n",
       "    </tr>\n",
       "    <tr>\n",
       "      <th>4</th>\n",
       "      <td>ID00007637202177411956430</td>\n",
       "      <td>17</td>\n",
       "      <td>2101</td>\n",
       "      <td>ID00007637202177411956430_17</td>\n",
       "      <td>-4</td>\n",
       "      <td>2315</td>\n",
       "      <td>58.253649</td>\n",
       "      <td>79</td>\n",
       "      <td>Male</td>\n",
       "      <td>Ex-smoker</td>\n",
       "      <td>21</td>\n",
       "      <td>2</td>\n",
       "    </tr>\n",
       "  </tbody>\n",
       "</table>\n",
       "</div>"
      ],
      "text/plain": [
       "                     Patient  predict_Week   FVC  \\\n",
       "0  ID00007637202177411956430             5  2214   \n",
       "1  ID00007637202177411956430             7  2061   \n",
       "2  ID00007637202177411956430             9  2144   \n",
       "3  ID00007637202177411956430            11  2069   \n",
       "4  ID00007637202177411956430            17  2101   \n",
       "\n",
       "                   Patient_Week  base_Week  base_FVC  base_Percent  base_Age  \\\n",
       "0   ID00007637202177411956430_5         -4      2315     58.253649        79   \n",
       "1   ID00007637202177411956430_7         -4      2315     58.253649        79   \n",
       "2   ID00007637202177411956430_9         -4      2315     58.253649        79   \n",
       "3  ID00007637202177411956430_11         -4      2315     58.253649        79   \n",
       "4  ID00007637202177411956430_17         -4      2315     58.253649        79   \n",
       "\n",
       "    Sex SmokingStatus  Week_passed  fold  \n",
       "0  Male     Ex-smoker            9     2  \n",
       "1  Male     Ex-smoker           11     2  \n",
       "2  Male     Ex-smoker           13     2  \n",
       "3  Male     Ex-smoker           15     2  \n",
       "4  Male     Ex-smoker           21     2  "
      ]
     },
     "execution_count": 38,
     "metadata": {},
     "output_type": "execute_result"
    }
   ],
   "source": [
    "group_k_fold = GroupKFold(n_splits=N_FOLD)\n",
    "groups = train['Patient'].values\n",
    "for fold, (train_index, valid_index) in enumerate(group_k_fold.split(train, train[TARGET], groups)):\n",
    "    train.loc[valid_index, 'fold'] = int(fold)\n",
    "train['fold'] = train['fold'].astype(int)\n",
    "train.head()"
   ]
  },
  {
   "cell_type": "markdown",
   "metadata": {},
   "source": [
    "## XGB Model  (Hyperopt)"
   ]
  },
  {
   "cell_type": "code",
   "execution_count": 39,
   "metadata": {},
   "outputs": [],
   "source": [
    "# features\n",
    "target = train[TARGET]\n",
    "test[TARGET] = np.nan\n",
    "cat_features = ['Sex', 'SmokingStatus']\n",
    "num_features = [c for c in test.columns if (test.dtypes[c] != 'object') & (c not in cat_features)]\n",
    "features = num_features + cat_features\n",
    "drop_features = [ID, TARGET, 'predict_Week', 'base_Week']\n",
    "features = [c for c in features if c not in drop_features]\n",
    "\n",
    "for col in cat_features:\n",
    "    lbl = preprocessing.LabelEncoder()\n",
    "    lbl.fit(train[col])\n",
    "    train.loc[:, col] = lbl.transform(train[col])\n",
    "    test.loc[:, col] = lbl.transform(test[col])      "
   ]
  },
  {
   "cell_type": "code",
   "execution_count": 40,
   "metadata": {},
   "outputs": [],
   "source": [
    "def optimize(params, x, y, groups):\n",
    "    \"\"\"\n",
    "    The main optimizatiion function\n",
    "    This function takes all the arguments from the search space and training features and target.\n",
    "    It then initialized the models by setting the chosen paramaters and runs crossvalidation and returns a \n",
    "    negative accuracy score\n",
    "    :param params: dict of params from hyperopt\n",
    "    :param x: training data\n",
    "    :param y: labels/targets\n",
    "    :return negative accuracy after 5 folds\n",
    "    \"\"\"\n",
    "\n",
    "    # initialize model with current parameters\n",
    "    model = xgb.XGBRegressor(**params)\n",
    "\n",
    "    group_k_fold = GroupKFold(n_splits=N_FOLD)\n",
    "\n",
    "    # initialize accuracy list\n",
    "    rmse_errors = []\n",
    "    \n",
    "    for idx in group_k_fold.split(x, y, groups):\n",
    "        train_idx, test_idx = idx[0], idx[1]\n",
    "        xtrain = x[train_idx]\n",
    "        ytrain = y[train_idx]\n",
    "\n",
    "        xtest = x[test_idx]\n",
    "        ytest = y[test_idx]\n",
    "\n",
    "        # fit model on train data\n",
    "        model.fit(xtrain, ytrain)\n",
    "\n",
    "        # create predictions\n",
    "        preds = model.predict(xtest)\n",
    "\n",
    "        fold_rmse = np.sqrt(mean_squared_error(ytest, preds))\n",
    "        rmse_errors.append(fold_rmse)\n",
    "    \n",
    "    return np.mean(rmse_errors)\n"
   ]
  },
  {
   "cell_type": "code",
   "execution_count": 41,
   "metadata": {},
   "outputs": [
    {
     "name": "stdout",
     "output_type": "stream",
     "text": [
      "100%|██████████| 50/50 [00:44<00:00,  1.12trial/s, best loss: 254.7971011671423] \n",
      "{'colsample_bytree': 0.8500000000000001, 'eta': 0.225, 'gamma': 0.5, 'max_depth': 0, 'min_child_weight': 6.0, 'subsample': 0.55}\n"
     ]
    }
   ],
   "source": [
    "# param_space = {\n",
    "        \n",
    "#         'eta': hp.choice('eta', [0.01, 0.015, 0.025,0.05, 1]),    \n",
    "#         'gamma': hp.choice('gamma', [0.05, 0.06, 0.07, 0.08, 0.09, 0.1, 0.3, 0.5, 0.7, 0.9, 1]),\n",
    "#         'max_depth':hp.choice('max_depth', [3,5,7,9,12,15,17,25]),\n",
    "#         'min_child_weight': hp.choice('min_child_weight', [1,3,5,7]),\n",
    "#         'subsample': hp.choice('subsample', [0.6, 0.7, 0.8, 0.9, 1.0]),\n",
    "#         'colsample_bytree': hp.choice('colsample_bytree', [0.6, 0.7, 0.8, 0.9, 0.1]),\n",
    "#         'objective':'reg:squarederror',\n",
    "#         'eval_metric': 'rmse',\n",
    "#     }\n",
    "\n",
    "\n",
    "param_space = {\n",
    "        'eta': hp.quniform('eta', 0.025, 0.5, 0.025),\n",
    "        'max_depth':  hp.choice('max_depth', np.arange(1, 14, dtype=int)),\n",
    "        'min_child_weight': hp.quniform('min_child_weight', 1, 6, 1),\n",
    "        'subsample': hp.quniform('subsample', 0.5, 1, 0.05),\n",
    "        'gamma': hp.quniform('gamma', 0.5, 1, 0.05),\n",
    "        'colsample_bytree': hp.quniform('colsample_bytree', 0.5, 1, 0.05),\n",
    "        'objective': 'reg:squarederror',\n",
    "        'eval_metric': 'rmse',\n",
    "    }\n",
    "\n",
    "groups = train.Patient.values\n",
    "X = train[features].values\n",
    "y = train[TARGET].values\n",
    "optimization_function = partial(optimize, x=X, y=y, groups = groups)\n",
    "# initialize Trials to keep logging information\n",
    "trials = Trials()\n",
    "\n",
    "# run hyperopt\n",
    "hopt = fmin(fn=optimization_function,\n",
    "space=param_space,\n",
    "algo=tpe.suggest,\n",
    "max_evals=50,\n",
    "trials=trials)\n",
    "\n",
    "print(hopt)"
   ]
  },
  {
   "cell_type": "code",
   "execution_count": 42,
   "metadata": {},
   "outputs": [],
   "source": [
    "best_params = {'colsample_bytree': 1.0, \n",
    "               'eta': 0.1, 'gamma': 0.75, \n",
    "               'max_depth': 1, 'min_child_weight': 5.0, 'subsample': 0.65,\n",
    "               'objective': 'reg:squarederror',\n",
    "        'eval_metric': 'rmse'\n",
    "              }\n",
    "best_model = xgb.XGBRegressor(**best_params)"
   ]
  },
  {
   "cell_type": "code",
   "execution_count": 43,
   "metadata": {},
   "outputs": [
    {
     "data": {
      "text/plain": [
       "XGBRegressor(base_score=0.5, booster='gbtree', colsample_bylevel=1,\n",
       "             colsample_bynode=1, colsample_bytree=1.0, eta=0.1,\n",
       "             eval_metric='rmse', gamma=0.75, gpu_id=-1, importance_type='gain',\n",
       "             interaction_constraints='', learning_rate=0.100000001,\n",
       "             max_delta_step=0, max_depth=1, min_child_weight=5.0, missing=nan,\n",
       "             monotone_constraints='()', n_estimators=100, n_jobs=0,\n",
       "             num_parallel_tree=1, random_state=0, reg_alpha=0, reg_lambda=1,\n",
       "             scale_pos_weight=1, subsample=0.65, tree_method='exact',\n",
       "             validate_parameters=1, verbosity=None)"
      ]
     },
     "execution_count": 43,
     "metadata": {},
     "output_type": "execute_result"
    }
   ],
   "source": [
    "best_model.fit(X, y)"
   ]
  },
  {
   "cell_type": "code",
   "execution_count": 44,
   "metadata": {},
   "outputs": [],
   "source": [
    "preds = best_model.predict(test[features].values)"
   ]
  },
  {
   "cell_type": "code",
   "execution_count": 45,
   "metadata": {},
   "outputs": [],
   "source": [
    "train['FVC_pred'] = best_model.predict(train[features].values)\n",
    "test['FVC_pred'] = preds"
   ]
  },
  {
   "cell_type": "code",
   "execution_count": 26,
   "metadata": {},
   "outputs": [
    {
     "name": "stdout",
     "output_type": "stream",
     "text": [
      "-7.171272651567262\n"
     ]
    }
   ],
   "source": [
    "# baseline score\n",
    "train['Confidence'] = 100\n",
    "train['sigma_clipped'] = train['Confidence'].apply(lambda x: max(x, 70))\n",
    "train['diff'] = abs(train['FVC'] - train['FVC_pred'])\n",
    "train['delta'] = train['diff'].apply(lambda x: min(x, 1000))\n",
    "train['score'] = -math.sqrt(2)*train['delta']/train['sigma_clipped'] - np.log(math.sqrt(2)*train['sigma_clipped'])\n",
    "score = train['score'].mean()\n",
    "print(score)"
   ]
  },
  {
   "cell_type": "code",
   "execution_count": 27,
   "metadata": {},
   "outputs": [
    {
     "data": {
      "application/vnd.jupyter.widget-view+json": {
       "model_id": "92d24a43accc4bd3a9651e733ddf5e89",
       "version_major": 2,
       "version_minor": 0
      },
      "text/plain": [
       "HBox(children=(FloatProgress(value=0.0, max=12144.0), HTML(value='')))"
      ]
     },
     "metadata": {},
     "output_type": "display_data"
    },
    {
     "name": "stdout",
     "output_type": "stream",
     "text": [
      "\n"
     ]
    }
   ],
   "source": [
    "import scipy as sp\n",
    "\n",
    "def loss_func(weight, row):\n",
    "    confidence = weight\n",
    "    sigma_clipped = max(confidence, 70)\n",
    "    diff = abs(row['FVC'] - row['FVC_pred'])\n",
    "    delta = min(diff, 1000)\n",
    "    score = -math.sqrt(2)*delta/sigma_clipped - np.log(math.sqrt(2)*sigma_clipped)\n",
    "    return -score\n",
    "\n",
    "results = []\n",
    "tk0 = tqdm(train.iterrows(), total=len(train))\n",
    "for _, row in tk0:\n",
    "    loss_partial = partial(loss_func, row=row)\n",
    "    weight = [100]\n",
    "    #bounds = [(70, 100)]\n",
    "    #result = sp.optimize.minimize(loss_partial, weight, method='SLSQP', bounds=bounds)\n",
    "    result = sp.optimize.minimize(loss_partial, weight, method='SLSQP')\n",
    "    x = result['x']\n",
    "    results.append(x[0])"
   ]
  },
  {
   "cell_type": "code",
   "execution_count": 49,
   "metadata": {},
   "outputs": [
    {
     "name": "stdout",
     "output_type": "stream",
     "text": [
      "-6.359231166303251\n"
     ]
    },
    {
     "data": {
      "text/html": [
       "<div>\n",
       "<style scoped>\n",
       "    .dataframe tbody tr th:only-of-type {\n",
       "        vertical-align: middle;\n",
       "    }\n",
       "\n",
       "    .dataframe tbody tr th {\n",
       "        vertical-align: top;\n",
       "    }\n",
       "\n",
       "    .dataframe thead th {\n",
       "        text-align: right;\n",
       "    }\n",
       "</style>\n",
       "<table border=\"1\" class=\"dataframe\">\n",
       "  <thead>\n",
       "    <tr style=\"text-align: right;\">\n",
       "      <th></th>\n",
       "      <th>Patient</th>\n",
       "      <th>predict_Week</th>\n",
       "      <th>FVC</th>\n",
       "      <th>Patient_Week</th>\n",
       "      <th>base_Week</th>\n",
       "      <th>base_FVC</th>\n",
       "      <th>base_Percent</th>\n",
       "      <th>base_Age</th>\n",
       "      <th>Sex</th>\n",
       "      <th>SmokingStatus</th>\n",
       "      <th>Week_passed</th>\n",
       "      <th>fold</th>\n",
       "      <th>FVC_pred</th>\n",
       "      <th>Confidence</th>\n",
       "      <th>sigma_clipped</th>\n",
       "      <th>diff</th>\n",
       "      <th>delta</th>\n",
       "      <th>score</th>\n",
       "    </tr>\n",
       "  </thead>\n",
       "  <tbody>\n",
       "    <tr>\n",
       "      <th>0</th>\n",
       "      <td>ID00007637202177411956430</td>\n",
       "      <td>5</td>\n",
       "      <td>2214</td>\n",
       "      <td>ID00007637202177411956430_5</td>\n",
       "      <td>-4</td>\n",
       "      <td>2315</td>\n",
       "      <td>58.253649</td>\n",
       "      <td>79</td>\n",
       "      <td>1</td>\n",
       "      <td>1</td>\n",
       "      <td>9</td>\n",
       "      <td>2</td>\n",
       "      <td>2262.904297</td>\n",
       "      <td>49.949527</td>\n",
       "      <td>70.000000</td>\n",
       "      <td>48.904297</td>\n",
       "      <td>48.904297</td>\n",
       "      <td>-5.583085</td>\n",
       "    </tr>\n",
       "    <tr>\n",
       "      <th>1</th>\n",
       "      <td>ID00007637202177411956430</td>\n",
       "      <td>7</td>\n",
       "      <td>2061</td>\n",
       "      <td>ID00007637202177411956430_7</td>\n",
       "      <td>-4</td>\n",
       "      <td>2315</td>\n",
       "      <td>58.253649</td>\n",
       "      <td>79</td>\n",
       "      <td>1</td>\n",
       "      <td>1</td>\n",
       "      <td>11</td>\n",
       "      <td>2</td>\n",
       "      <td>2262.904297</td>\n",
       "      <td>285.521591</td>\n",
       "      <td>285.521591</td>\n",
       "      <td>201.904297</td>\n",
       "      <td>201.904297</td>\n",
       "      <td>-7.000941</td>\n",
       "    </tr>\n",
       "    <tr>\n",
       "      <th>2</th>\n",
       "      <td>ID00007637202177411956430</td>\n",
       "      <td>9</td>\n",
       "      <td>2144</td>\n",
       "      <td>ID00007637202177411956430_9</td>\n",
       "      <td>-4</td>\n",
       "      <td>2315</td>\n",
       "      <td>58.253649</td>\n",
       "      <td>79</td>\n",
       "      <td>1</td>\n",
       "      <td>1</td>\n",
       "      <td>13</td>\n",
       "      <td>2</td>\n",
       "      <td>2251.105957</td>\n",
       "      <td>151.363780</td>\n",
       "      <td>151.363780</td>\n",
       "      <td>107.105957</td>\n",
       "      <td>107.105957</td>\n",
       "      <td>-6.366966</td>\n",
       "    </tr>\n",
       "    <tr>\n",
       "      <th>3</th>\n",
       "      <td>ID00007637202177411956430</td>\n",
       "      <td>11</td>\n",
       "      <td>2069</td>\n",
       "      <td>ID00007637202177411956430_11</td>\n",
       "      <td>-4</td>\n",
       "      <td>2315</td>\n",
       "      <td>58.253649</td>\n",
       "      <td>79</td>\n",
       "      <td>1</td>\n",
       "      <td>1</td>\n",
       "      <td>15</td>\n",
       "      <td>2</td>\n",
       "      <td>2251.105957</td>\n",
       "      <td>257.411762</td>\n",
       "      <td>257.411762</td>\n",
       "      <td>182.105957</td>\n",
       "      <td>182.105957</td>\n",
       "      <td>-6.897736</td>\n",
       "    </tr>\n",
       "    <tr>\n",
       "      <th>4</th>\n",
       "      <td>ID00007637202177411956430</td>\n",
       "      <td>17</td>\n",
       "      <td>2101</td>\n",
       "      <td>ID00007637202177411956430_17</td>\n",
       "      <td>-4</td>\n",
       "      <td>2315</td>\n",
       "      <td>58.253649</td>\n",
       "      <td>79</td>\n",
       "      <td>1</td>\n",
       "      <td>1</td>\n",
       "      <td>21</td>\n",
       "      <td>2</td>\n",
       "      <td>2251.105957</td>\n",
       "      <td>212.272056</td>\n",
       "      <td>212.272056</td>\n",
       "      <td>150.105957</td>\n",
       "      <td>150.105957</td>\n",
       "      <td>-6.704489</td>\n",
       "    </tr>\n",
       "  </tbody>\n",
       "</table>\n",
       "</div>"
      ],
      "text/plain": [
       "                     Patient  predict_Week   FVC  \\\n",
       "0  ID00007637202177411956430             5  2214   \n",
       "1  ID00007637202177411956430             7  2061   \n",
       "2  ID00007637202177411956430             9  2144   \n",
       "3  ID00007637202177411956430            11  2069   \n",
       "4  ID00007637202177411956430            17  2101   \n",
       "\n",
       "                   Patient_Week  base_Week  base_FVC  base_Percent  base_Age  \\\n",
       "0   ID00007637202177411956430_5         -4      2315     58.253649        79   \n",
       "1   ID00007637202177411956430_7         -4      2315     58.253649        79   \n",
       "2   ID00007637202177411956430_9         -4      2315     58.253649        79   \n",
       "3  ID00007637202177411956430_11         -4      2315     58.253649        79   \n",
       "4  ID00007637202177411956430_17         -4      2315     58.253649        79   \n",
       "\n",
       "   Sex  SmokingStatus  Week_passed  fold     FVC_pred  Confidence  \\\n",
       "0    1              1            9     2  2262.904297   49.949527   \n",
       "1    1              1           11     2  2262.904297  285.521591   \n",
       "2    1              1           13     2  2251.105957  151.363780   \n",
       "3    1              1           15     2  2251.105957  257.411762   \n",
       "4    1              1           21     2  2251.105957  212.272056   \n",
       "\n",
       "   sigma_clipped        diff       delta     score  \n",
       "0      70.000000   48.904297   48.904297 -5.583085  \n",
       "1     285.521591  201.904297  201.904297 -7.000941  \n",
       "2     151.363780  107.105957  107.105957 -6.366966  \n",
       "3     257.411762  182.105957  182.105957 -6.897736  \n",
       "4     212.272056  150.105957  150.105957 -6.704489  "
      ]
     },
     "execution_count": 49,
     "metadata": {},
     "output_type": "execute_result"
    }
   ],
   "source": [
    "# optimized score\n",
    "train['Confidence'] = results\n",
    "train['sigma_clipped'] = train['Confidence'].apply(lambda x: max(x, 70))\n",
    "train['diff'] = abs(train['FVC'] - train['FVC_pred'])\n",
    "train['delta'] = train['diff'].apply(lambda x: min(x, 1000))\n",
    "train['score'] = -math.sqrt(2)*train['delta']/train['sigma_clipped'] - np.log(math.sqrt(2)*train['sigma_clipped'])\n",
    "score = train['score'].mean()\n",
    "print(score)\n",
    "train.head()"
   ]
  },
  {
   "cell_type": "markdown",
   "metadata": {},
   "source": [
    "## predict Confidence¶\n"
   ]
  },
  {
   "cell_type": "code",
   "execution_count": 52,
   "metadata": {},
   "outputs": [],
   "source": [
    "TARGET = 'Confidence'\n",
    "\n",
    "target = train[TARGET]\n",
    "test[TARGET] = np.nan\n",
    "\n",
    "# features\n",
    "cat_features = ['Sex', 'SmokingStatus']\n",
    "num_features = [c for c in test.columns if (test.dtypes[c] != 'object') & (c not in cat_features)]\n",
    "features = num_features + cat_features\n",
    "drop_features = [ID, TARGET, 'predict_Week', 'base_Week', 'FVC', 'FVC_pred']\n",
    "features = [c for c in features if c not in drop_features]"
   ]
  },
  {
   "cell_type": "code",
   "execution_count": 53,
   "metadata": {},
   "outputs": [
    {
     "data": {
      "text/plain": [
       "['base_FVC', 'base_Percent', 'base_Age', 'Week_passed', 'Sex', 'SmokingStatus']"
      ]
     },
     "execution_count": 53,
     "metadata": {},
     "output_type": "execute_result"
    }
   ],
   "source": [
    "features"
   ]
  },
  {
   "cell_type": "code",
   "execution_count": 54,
   "metadata": {},
   "outputs": [
    {
     "name": "stdout",
     "output_type": "stream",
     "text": [
      "100%|██████████| 50/50 [00:45<00:00,  1.09trial/s, best loss: 212.98512869412372]\n",
      "{'colsample_bytree': 0.8, 'eta': 0.05, 'gamma': 0.8500000000000001, 'max_depth': 0, 'min_child_weight': 4.0, 'subsample': 0.8}\n"
     ]
    }
   ],
   "source": [
    "groups = train.Patient.values\n",
    "X = train[features].values\n",
    "y = train[TARGET].values\n",
    "optimization_function = partial(optimize, x=X, y=y, groups = groups)\n",
    "# initialize Trials to keep logging information\n",
    "trials = Trials()\n",
    "\n",
    "# run hyperopt\n",
    "hopt = fmin(fn=optimization_function,\n",
    "space=param_space,\n",
    "algo=tpe.suggest,\n",
    "max_evals=50,\n",
    "trials=trials)\n",
    "\n",
    "print(hopt)"
   ]
  },
  {
   "cell_type": "code",
   "execution_count": 57,
   "metadata": {},
   "outputs": [
    {
     "data": {
      "text/plain": [
       "XGBRegressor(base_score=0.5, booster='gbtree', colsample_bylevel=1,\n",
       "             colsample_bynode=1, colsample_bytree=0.8, eta=0.05,\n",
       "             eval_metric='rmse', gamma=0.8500000000000001, gpu_id=-1,\n",
       "             importance_type='gain', interaction_constraints='',\n",
       "             learning_rate=0.0500000007, max_delta_step=0, max_depth=0,\n",
       "             min_child_weight=4.0, missing=nan, monotone_constraints='()',\n",
       "             n_estimators=100, n_jobs=0, num_parallel_tree=1, random_state=0,\n",
       "             reg_alpha=0, reg_lambda=1, scale_pos_weight=1, subsample=0.8,\n",
       "             tree_method='exact', validate_parameters=1, verbosity=None)"
      ]
     },
     "execution_count": 57,
     "metadata": {},
     "output_type": "execute_result"
    }
   ],
   "source": [
    "best_params = {'colsample_bytree': 0.8, 'eta': 0.05, \n",
    "               'gamma': 0.8500000000000001,\n",
    "               'max_depth': 0,\n",
    "               'min_child_weight': 4.0,\n",
    "               'subsample': 0.8,\n",
    "               'objective': 'reg:squarederror',\n",
    "        'eval_metric': 'rmse'\n",
    "              }\n",
    "best_model = xgb.XGBRegressor(**best_params)\n",
    "best_model.fit(X, y)\n"
   ]
  },
  {
   "cell_type": "code",
   "execution_count": 58,
   "metadata": {},
   "outputs": [
    {
     "name": "stdout",
     "output_type": "stream",
     "text": [
      "-6.7490452706400115\n"
     ]
    }
   ],
   "source": [
    "train['Confidence'] = best_model.predict(train[features].values)\n",
    "train['sigma_clipped'] = train['Confidence'].apply(lambda x: max(x, 70))\n",
    "train['diff'] = abs(train['FVC'] - train['FVC_pred'])\n",
    "train['delta'] = train['diff'].apply(lambda x: min(x, 1000))\n",
    "train['score'] = -math.sqrt(2)*train['delta']/train['sigma_clipped'] - np.log(math.sqrt(2)*train['sigma_clipped'])\n",
    "score = train['score'].mean()\n",
    "print(score)"
   ]
  },
  {
   "cell_type": "code",
   "execution_count": 61,
   "metadata": {},
   "outputs": [],
   "source": [
    "def lb_metric(train):\n",
    "    train['Confidence'] = best_model.predict(train[features].values)\n",
    "    train['sigma_clipped'] = train['Confidence'].apply(lambda x: max(x, 70))\n",
    "    train['diff'] = abs(train['FVC'] - train['FVC_pred'])\n",
    "    train['delta'] = train['diff'].apply(lambda x: min(x, 1000))\n",
    "    train['score'] = -math.sqrt(2)*train['delta']/train['sigma_clipped'] - np.log(math.sqrt(2)*train['sigma_clipped'])\n",
    "    score = train['score'].mean()\n",
    "    return score"
   ]
  },
  {
   "cell_type": "code",
   "execution_count": 62,
   "metadata": {},
   "outputs": [
    {
     "name": "stderr",
     "output_type": "stream",
     "text": [
      "Local Score: -6.7490452706400115\n",
      "Local Score: -6.7490452706400115\n"
     ]
    }
   ],
   "source": [
    "score = lb_metric(train)\n",
    "logger.info(f'Local Score: {score}')"
   ]
  },
  {
   "cell_type": "code",
   "execution_count": 63,
   "metadata": {},
   "outputs": [],
   "source": [
    "test['Confidence'] = best_model.predict(test[features].values)"
   ]
  },
  {
   "cell_type": "code",
   "execution_count": 65,
   "metadata": {},
   "outputs": [
    {
     "data": {
      "text/html": [
       "<div>\n",
       "<style scoped>\n",
       "    .dataframe tbody tr th:only-of-type {\n",
       "        vertical-align: middle;\n",
       "    }\n",
       "\n",
       "    .dataframe tbody tr th {\n",
       "        vertical-align: top;\n",
       "    }\n",
       "\n",
       "    .dataframe thead th {\n",
       "        text-align: right;\n",
       "    }\n",
       "</style>\n",
       "<table border=\"1\" class=\"dataframe\">\n",
       "  <thead>\n",
       "    <tr style=\"text-align: right;\">\n",
       "      <th></th>\n",
       "      <th>Patient_Week</th>\n",
       "      <th>FVC</th>\n",
       "      <th>Confidence</th>\n",
       "    </tr>\n",
       "  </thead>\n",
       "  <tbody>\n",
       "    <tr>\n",
       "      <th>0</th>\n",
       "      <td>ID00419637202311204720264_-12</td>\n",
       "      <td>2000</td>\n",
       "      <td>100</td>\n",
       "    </tr>\n",
       "    <tr>\n",
       "      <th>1</th>\n",
       "      <td>ID00421637202311550012437_-12</td>\n",
       "      <td>2000</td>\n",
       "      <td>100</td>\n",
       "    </tr>\n",
       "    <tr>\n",
       "      <th>2</th>\n",
       "      <td>ID00422637202311677017371_-12</td>\n",
       "      <td>2000</td>\n",
       "      <td>100</td>\n",
       "    </tr>\n",
       "    <tr>\n",
       "      <th>3</th>\n",
       "      <td>ID00423637202312137826377_-12</td>\n",
       "      <td>2000</td>\n",
       "      <td>100</td>\n",
       "    </tr>\n",
       "    <tr>\n",
       "      <th>4</th>\n",
       "      <td>ID00426637202313170790466_-12</td>\n",
       "      <td>2000</td>\n",
       "      <td>100</td>\n",
       "    </tr>\n",
       "  </tbody>\n",
       "</table>\n",
       "</div>"
      ],
      "text/plain": [
       "                    Patient_Week   FVC  Confidence\n",
       "0  ID00419637202311204720264_-12  2000         100\n",
       "1  ID00421637202311550012437_-12  2000         100\n",
       "2  ID00422637202311677017371_-12  2000         100\n",
       "3  ID00423637202312137826377_-12  2000         100\n",
       "4  ID00426637202313170790466_-12  2000         100"
      ]
     },
     "execution_count": 65,
     "metadata": {},
     "output_type": "execute_result"
    }
   ],
   "source": [
    "submission.head()"
   ]
  },
  {
   "cell_type": "code",
   "execution_count": 66,
   "metadata": {},
   "outputs": [],
   "source": [
    "sub = submission.drop(columns=['FVC', 'Confidence']).merge(test[['Patient_Week', 'FVC_pred', 'Confidence']], \n",
    "                                                           on='Patient_Week')\n",
    "sub.columns = submission.columns\n",
    "sub.to_csv('submission.csv', index=False)\n",
    "sub.head()"
   ]
  },
  {
   "cell_type": "code",
   "execution_count": 69,
   "metadata": {},
   "outputs": [
    {
     "data": {
      "text/plain": [
       "array([222.7575], dtype=float32)"
      ]
     },
     "execution_count": 69,
     "metadata": {},
     "output_type": "execute_result"
    }
   ],
   "source": []
  },
  {
   "cell_type": "code",
   "execution_count": null,
   "metadata": {},
   "outputs": [],
   "source": []
  }
 ],
 "metadata": {
  "kernelspec": {
   "display_name": "ml",
   "language": "python",
   "name": "ml"
  },
  "language_info": {
   "codemirror_mode": {
    "name": "ipython",
    "version": 3
   },
   "file_extension": ".py",
   "mimetype": "text/x-python",
   "name": "python",
   "nbconvert_exporter": "python",
   "pygments_lexer": "ipython3",
   "version": "3.7.7"
  },
  "toc": {
   "base_numbering": 1,
   "nav_menu": {},
   "number_sections": true,
   "sideBar": true,
   "skip_h1_title": false,
   "title_cell": "Table of Contents",
   "title_sidebar": "Contents",
   "toc_cell": false,
   "toc_position": {},
   "toc_section_display": true,
   "toc_window_display": true
  }
 },
 "nbformat": 4,
 "nbformat_minor": 4
}
